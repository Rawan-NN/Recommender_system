{
  "cells": [
    {
      "cell_type": "markdown",
      "metadata": {
        "id": "cQvgz1VusW_O"
      },
      "source": [
        "<p style=\"text-align:center\">\n",
        "    <a href=\"https://skills.network/?utm_medium=Exinfluencer&utm_source=Exinfluencer&utm_content=000026UJ&utm_term=10006555&utm_id=NA-SkillsNetwork-Channel-SkillsNetworkCoursesIBMML321ENSkillsNetwork817-2022-01-01\" target=\"_blank\">\n",
        "    <img src=\"https://cf-courses-data.s3.us.cloud-object-storage.appdomain.cloud/assets/logos/SN_web_lightmode.png\" width=\"200\" alt=\"Skills Network Logo\"  />\n",
        "    </a>\n",
        "</p>\n"
      ]
    },
    {
      "cell_type": "markdown",
      "metadata": {
        "id": "Wimnz6r6sW_R"
      },
      "source": [
        "# **Extract Bag of Words (BoW) Features from Course Textual Content**\n"
      ]
    },
    {
      "cell_type": "markdown",
      "metadata": {
        "id": "Sit4YuSvsW_S"
      },
      "source": [
        "Estimated time needed: **60** minutes\n"
      ]
    },
    {
      "cell_type": "markdown",
      "metadata": {
        "id": "P4JclgoPsW_S"
      },
      "source": [
        "The main goal of recommender systems is to help users find items they potentially interested in. Depending on the recommendation tasks, an item can be a movie, a restaurant, or, in our case, an online course.\n",
        "\n",
        "Machine learning algorithms cannot work on an item directly so we first need to extract features and represent the items mathematically, i.e., with a feature vector.\n",
        "\n",
        "Many items are often described by text so they are associated with textual data, such as the titles and descriptions of a movie or course. Since machine learning algorithms can not process textual data directly, we need to transform the raw text into numeric feature vectors.\n"
      ]
    },
    {
      "cell_type": "markdown",
      "metadata": {
        "id": "S1ZTe-1rsW_T"
      },
      "source": [
        "![](https://cf-courses-data.s3.us.cloud-object-storage.appdomain.cloud/IBM-ML321EN-SkillsNetwork/labs/module_2/images/extract_textual_features.png)\n"
      ]
    },
    {
      "cell_type": "markdown",
      "metadata": {
        "id": "c8Lwg3IhsW_T"
      },
      "source": [
        "In this lab, you will be learning to extract the bag of words (BoW) features from course titles and descriptions. The BoW feature is a simple but effective feature characterizing textual data and is widely used in many textual machine learning tasks.\n"
      ]
    },
    {
      "cell_type": "markdown",
      "metadata": {
        "id": "fzSHtqKwsW_U"
      },
      "source": [
        "## Objectives\n"
      ]
    },
    {
      "cell_type": "markdown",
      "metadata": {
        "id": "A93zHtYZsW_V"
      },
      "source": [
        "After completing this lab you will be able to:\n"
      ]
    },
    {
      "cell_type": "markdown",
      "metadata": {
        "id": "rcncSNcisW_V"
      },
      "source": [
        "* Extract Bag of Words (BoW) features from course titles and descriptions\n",
        "* Build a course BoW dataset to be used for building a content-based recommender system later\n"
      ]
    },
    {
      "cell_type": "markdown",
      "metadata": {
        "id": "0TTxUDS3sW_W"
      },
      "source": [
        "----\n"
      ]
    },
    {
      "cell_type": "markdown",
      "metadata": {
        "id": "49u86CAmsW_W"
      },
      "source": [
        "## Prepare and setup the lab environment\n"
      ]
    },
    {
      "cell_type": "markdown",
      "metadata": {
        "id": "qhbf2rd6sW_W"
      },
      "source": [
        "First, let's install and import required libraries:\n"
      ]
    },
    {
      "cell_type": "code",
      "execution_count": 1,
      "metadata": {
        "tags": [],
        "colab": {
          "base_uri": "https://localhost:8080/"
        },
        "id": "JV7xa-aUsW_X",
        "outputId": "944b3e05-c0e9-403b-a04e-24f3e58719d8"
      },
      "outputs": [
        {
          "output_type": "stream",
          "name": "stdout",
          "text": [
            "Collecting nltk==3.6.7\n",
            "  Downloading nltk-3.6.7-py3-none-any.whl (1.5 MB)\n",
            "\u001b[?25l     \u001b[90m━━━━━━━━━━━━━━━━━━━━━━━━━━━━━━━━━━━━━━━━\u001b[0m \u001b[32m0.0/1.5 MB\u001b[0m \u001b[31m?\u001b[0m eta \u001b[36m-:--:--\u001b[0m\r\u001b[2K     \u001b[91m━━━━━━━━━━━━━━━━━━━━━━━━━━━━━━━━━━━━━━━\u001b[0m\u001b[91m╸\u001b[0m \u001b[32m1.5/1.5 MB\u001b[0m \u001b[31m53.7 MB/s\u001b[0m eta \u001b[36m0:00:01\u001b[0m\r\u001b[2K     \u001b[90m━━━━━━━━━━━━━━━━━━━━━━━━━━━━━━━━━━━━━━━━\u001b[0m \u001b[32m1.5/1.5 MB\u001b[0m \u001b[31m34.5 MB/s\u001b[0m eta \u001b[36m0:00:00\u001b[0m\n",
            "\u001b[?25hRequirement already satisfied: click in /usr/local/lib/python3.10/dist-packages (from nltk==3.6.7) (8.1.4)\n",
            "Requirement already satisfied: joblib in /usr/local/lib/python3.10/dist-packages (from nltk==3.6.7) (1.3.1)\n",
            "Requirement already satisfied: regex>=2021.8.3 in /usr/local/lib/python3.10/dist-packages (from nltk==3.6.7) (2022.10.31)\n",
            "Requirement already satisfied: tqdm in /usr/local/lib/python3.10/dist-packages (from nltk==3.6.7) (4.65.0)\n",
            "Installing collected packages: nltk\n",
            "  Attempting uninstall: nltk\n",
            "    Found existing installation: nltk 3.8.1\n",
            "    Uninstalling nltk-3.8.1:\n",
            "      Successfully uninstalled nltk-3.8.1\n",
            "Successfully installed nltk-3.6.7\n",
            "Collecting gensim==4.1.2\n",
            "  Downloading gensim-4.1.2.tar.gz (23.2 MB)\n",
            "\u001b[2K     \u001b[90m━━━━━━━━━━━━━━━━━━━━━━━━━━━━━━━━━━━━━━━━\u001b[0m \u001b[32m23.2/23.2 MB\u001b[0m \u001b[31m18.6 MB/s\u001b[0m eta \u001b[36m0:00:00\u001b[0m\n",
            "\u001b[?25h  Preparing metadata (setup.py) ... \u001b[?25l\u001b[?25hdone\n",
            "Requirement already satisfied: numpy>=1.17.0 in /usr/local/lib/python3.10/dist-packages (from gensim==4.1.2) (1.22.4)\n",
            "Requirement already satisfied: scipy>=0.18.1 in /usr/local/lib/python3.10/dist-packages (from gensim==4.1.2) (1.10.1)\n",
            "Requirement already satisfied: smart_open>=1.8.1 in /usr/local/lib/python3.10/dist-packages (from gensim==4.1.2) (6.3.0)\n",
            "Building wheels for collected packages: gensim\n",
            "  Building wheel for gensim (setup.py) ... \u001b[?25l\u001b[?25hdone\n",
            "  Created wheel for gensim: filename=gensim-4.1.2-cp310-cp310-linux_x86_64.whl size=26384275 sha256=74e54615f7eabe34a06807ec4a615bcb4cb888439457071a156982611fd9a669\n",
            "  Stored in directory: /root/.cache/pip/wheels/13/35/4e/dca2954de21981d0a137ff930239f0767403a617e32f19f04f\n",
            "Successfully built gensim\n",
            "Installing collected packages: gensim\n",
            "  Attempting uninstall: gensim\n",
            "    Found existing installation: gensim 4.3.1\n",
            "    Uninstalling gensim-4.3.1:\n",
            "      Successfully uninstalled gensim-4.3.1\n",
            "Successfully installed gensim-4.1.2\n"
          ]
        }
      ],
      "source": [
        "!pip install nltk==3.6.7\n",
        "!pip install gensim==4.1.2"
      ]
    },
    {
      "cell_type": "code",
      "execution_count": 2,
      "metadata": {
        "tags": [],
        "id": "KSGWJTbmsW_Y"
      },
      "outputs": [],
      "source": [
        "import gensim\n",
        "import pandas as pd\n",
        "import nltk as nltk\n",
        "from nltk.corpus import stopwords\n",
        "from nltk.tokenize import word_tokenize\n",
        "from gensim import corpora\n",
        "\n",
        "%matplotlib inline"
      ]
    },
    {
      "cell_type": "markdown",
      "metadata": {
        "id": "jGaQogN2sW_Z"
      },
      "source": [
        "Download stopwords\n"
      ]
    },
    {
      "cell_type": "code",
      "execution_count": 3,
      "metadata": {
        "colab": {
          "base_uri": "https://localhost:8080/"
        },
        "id": "MdSj-uAnsW_Z",
        "outputId": "87529d5c-8dc5-4961-803c-7b3246dc0758"
      },
      "outputs": [
        {
          "output_type": "stream",
          "name": "stderr",
          "text": [
            "[nltk_data] Downloading package punkt to /root/nltk_data...\n",
            "[nltk_data]   Unzipping tokenizers/punkt.zip.\n",
            "[nltk_data] Downloading package stopwords to /root/nltk_data...\n",
            "[nltk_data]   Unzipping corpora/stopwords.zip.\n",
            "[nltk_data] Downloading package averaged_perceptron_tagger to\n",
            "[nltk_data]     /root/nltk_data...\n",
            "[nltk_data]   Unzipping taggers/averaged_perceptron_tagger.zip.\n"
          ]
        },
        {
          "output_type": "execute_result",
          "data": {
            "text/plain": [
              "True"
            ]
          },
          "metadata": {},
          "execution_count": 3
        }
      ],
      "source": [
        "nltk.download('punkt')\n",
        "nltk.download('stopwords')\n",
        "nltk.download('averaged_perceptron_tagger')"
      ]
    },
    {
      "cell_type": "code",
      "execution_count": 4,
      "metadata": {
        "id": "cZtkYmbrsW_Z"
      },
      "outputs": [],
      "source": [
        "# also set a random state\n",
        "rs = 123"
      ]
    },
    {
      "cell_type": "markdown",
      "metadata": {
        "id": "dmUVN6-IsW_Z"
      },
      "source": [
        "### Bag of Words (BoW) features\n"
      ]
    },
    {
      "cell_type": "markdown",
      "metadata": {
        "id": "xczLBAJysW_a"
      },
      "source": [
        "BoW features are essentially the counts or frequencies of each word that appears in a text (string). Let's illustrate it with some simple examples.\n"
      ]
    },
    {
      "cell_type": "markdown",
      "metadata": {
        "id": "QTi4ot48sW_a"
      },
      "source": [
        "Suppose we have two course descriptions as follows:\n"
      ]
    },
    {
      "cell_type": "code",
      "execution_count": 5,
      "metadata": {
        "id": "jdUZVTU6sW_a"
      },
      "outputs": [],
      "source": [
        "course1 = \"this is an introduction data science course which introduces data science to beginners\""
      ]
    },
    {
      "cell_type": "code",
      "execution_count": 6,
      "metadata": {
        "id": "e-HVS0vZsW_a"
      },
      "outputs": [],
      "source": [
        "course2 = \"machine learning for beginners\""
      ]
    },
    {
      "cell_type": "code",
      "execution_count": 7,
      "metadata": {
        "colab": {
          "base_uri": "https://localhost:8080/"
        },
        "id": "RujP9lOJsW_a",
        "outputId": "ddbfdf00-a0b4-436d-9967-8038b2bd079d"
      },
      "outputs": [
        {
          "output_type": "execute_result",
          "data": {
            "text/plain": [
              "['this is an introduction data science course which introduces data science to beginners',\n",
              " 'machine learning for beginners']"
            ]
          },
          "metadata": {},
          "execution_count": 7
        }
      ],
      "source": [
        "courses = [course1, course2]\n",
        "courses"
      ]
    },
    {
      "cell_type": "markdown",
      "metadata": {
        "id": "j3c-UkCQsW_b"
      },
      "source": [
        "The first step is to split the two strings into words (tokens). A token in the text processing context means the smallest unit of text such as a word, a symbol/punctuation, or a phrase, etc. The process to transform a string into a collection of tokens is called `tokenization`.\n"
      ]
    },
    {
      "cell_type": "markdown",
      "metadata": {
        "id": "ZrFfn1WosW_b"
      },
      "source": [
        "One common way to do ```tokenization``` is to use the Python built-in `split()` method of the `str` class.  However, in this lab, we want to leverage the `nltk` (Natural Language Toolkit) package, which is probably the most commonly used package to process text or natural language.\n"
      ]
    },
    {
      "cell_type": "markdown",
      "metadata": {
        "id": "omvcyj3LsW_b"
      },
      "source": [
        " More specifically, we will use the ```word_tokenize()``` method on the content of course (string):\n"
      ]
    },
    {
      "cell_type": "code",
      "execution_count": 8,
      "metadata": {
        "id": "iZaeCBrusW_b"
      },
      "outputs": [],
      "source": [
        "# Tokenize the two courses\n",
        "tokenized_courses = [word_tokenize(course) for course in courses]"
      ]
    },
    {
      "cell_type": "code",
      "execution_count": 9,
      "metadata": {
        "colab": {
          "base_uri": "https://localhost:8080/"
        },
        "id": "bIgBwscbsW_c",
        "outputId": "3aaae380-89d2-4934-b4a2-9e6e4a6b41b4"
      },
      "outputs": [
        {
          "output_type": "execute_result",
          "data": {
            "text/plain": [
              "[['this',\n",
              "  'is',\n",
              "  'an',\n",
              "  'introduction',\n",
              "  'data',\n",
              "  'science',\n",
              "  'course',\n",
              "  'which',\n",
              "  'introduces',\n",
              "  'data',\n",
              "  'science',\n",
              "  'to',\n",
              "  'beginners'],\n",
              " ['machine', 'learning', 'for', 'beginners']]"
            ]
          },
          "metadata": {},
          "execution_count": 9
        }
      ],
      "source": [
        "tokenized_courses"
      ]
    },
    {
      "cell_type": "markdown",
      "metadata": {
        "id": "8VOfFKHSsW_c"
      },
      "source": [
        "As you can see from the cell output, two courses have been tokenized and turned into two token arrays.\n"
      ]
    },
    {
      "cell_type": "markdown",
      "metadata": {
        "id": "-aZq3Af5sW_c"
      },
      "source": [
        "Next, we want to create a token dictionary to index all tokens. Basically, we want to assign a key/index for each token. One way to index tokens is to use the `gensim` package which is another popular package for processing textual data:\n"
      ]
    },
    {
      "cell_type": "code",
      "execution_count": 10,
      "metadata": {
        "id": "OIhP850nsW_c"
      },
      "outputs": [],
      "source": [
        "# Create a token dictionary for the two courses\n",
        "tokens_dict = gensim.corpora.Dictionary(tokenized_courses)"
      ]
    },
    {
      "cell_type": "code",
      "execution_count": 11,
      "metadata": {
        "colab": {
          "base_uri": "https://localhost:8080/"
        },
        "id": "yGeyj68YsW_d",
        "outputId": "3aab9999-a38f-4154-9888-8dd181c21496"
      },
      "outputs": [
        {
          "output_type": "stream",
          "name": "stdout",
          "text": [
            "{'an': 0, 'beginners': 1, 'course': 2, 'data': 3, 'introduces': 4, 'introduction': 5, 'is': 6, 'science': 7, 'this': 8, 'to': 9, 'which': 10, 'for': 11, 'learning': 12, 'machine': 13}\n"
          ]
        }
      ],
      "source": [
        "print(tokens_dict.token2id)"
      ]
    },
    {
      "cell_type": "markdown",
      "metadata": {
        "id": "ZtX1iBgEsW_d"
      },
      "source": [
        "With the token dictionary, we can easily count each token in the two example courses and output two BoW feature vectors. However, more conveniently, the `gensim` package provides us a `doc2bow` method to generate BoW features out-of-box.\n"
      ]
    },
    {
      "cell_type": "code",
      "execution_count": 12,
      "metadata": {
        "id": "261_EtjAsW_d"
      },
      "outputs": [],
      "source": [
        "# Generate BoW features for each course\n",
        "courses_bow = [tokens_dict.doc2bow(course) for course in tokenized_courses]"
      ]
    },
    {
      "cell_type": "code",
      "execution_count": 13,
      "metadata": {
        "colab": {
          "base_uri": "https://localhost:8080/"
        },
        "id": "9TIjPpQ_sW_d",
        "outputId": "78d0a1bb-2318-4917-af60-30683789ec53"
      },
      "outputs": [
        {
          "output_type": "execute_result",
          "data": {
            "text/plain": [
              "[[(0, 1),\n",
              "  (1, 1),\n",
              "  (2, 1),\n",
              "  (3, 2),\n",
              "  (4, 1),\n",
              "  (5, 1),\n",
              "  (6, 1),\n",
              "  (7, 2),\n",
              "  (8, 1),\n",
              "  (9, 1),\n",
              "  (10, 1)],\n",
              " [(1, 1), (11, 1), (12, 1), (13, 1)]]"
            ]
          },
          "metadata": {},
          "execution_count": 13
        }
      ],
      "source": [
        "courses_bow"
      ]
    },
    {
      "cell_type": "markdown",
      "metadata": {
        "id": "Kk9AR3D7sW_e"
      },
      "source": [
        "It outputs two BoW arrays where each element is a tuple, e.g., (0, 1) and (7, 2). The first element of the tuple is the token ID and the second element is its count. So `(0, 1)` means `(``an``, 1)` and `(7, 2)` means `(``science``, 2)`.\n"
      ]
    },
    {
      "cell_type": "markdown",
      "metadata": {
        "id": "sjczLmF6sW_e"
      },
      "source": [
        "We can use the following code snippet to print each token and its count:\n"
      ]
    },
    {
      "cell_type": "code",
      "execution_count": 14,
      "metadata": {
        "colab": {
          "base_uri": "https://localhost:8080/"
        },
        "id": "ByjGjdyFsW_e",
        "outputId": "bb069a90-f53a-4377-c194-7bdb522ae0a7"
      },
      "outputs": [
        {
          "output_type": "stream",
          "name": "stdout",
          "text": [
            "Bag of words for course 0:\n",
            "--Token: 'an', Count:1\n",
            "--Token: 'beginners', Count:1\n",
            "--Token: 'course', Count:1\n",
            "--Token: 'data', Count:2\n",
            "--Token: 'introduces', Count:1\n",
            "--Token: 'introduction', Count:1\n",
            "--Token: 'is', Count:1\n",
            "--Token: 'science', Count:2\n",
            "--Token: 'this', Count:1\n",
            "--Token: 'to', Count:1\n",
            "--Token: 'which', Count:1\n",
            "Bag of words for course 1:\n",
            "--Token: 'beginners', Count:1\n",
            "--Token: 'for', Count:1\n",
            "--Token: 'learning', Count:1\n",
            "--Token: 'machine', Count:1\n"
          ]
        }
      ],
      "source": [
        "for course_idx, course_bow in enumerate(courses_bow):\n",
        "    print(f\"Bag of words for course {course_idx}:\")\n",
        "    # For each token index, print its bow value (word count)\n",
        "    for token_index, token_bow in course_bow:\n",
        "        token = tokens_dict.get(token_index)\n",
        "        print(f\"--Token: '{token}', Count:{token_bow}\")"
      ]
    },
    {
      "cell_type": "markdown",
      "metadata": {
        "id": "1lVk98A7sW_e"
      },
      "source": [
        "If we turn to the long list into a horizontal feature vectors, we can see the two courses become two numerical feature vectors:\n"
      ]
    },
    {
      "cell_type": "markdown",
      "metadata": {
        "id": "CB7hycaBsW_q"
      },
      "source": [
        "![](https://cf-courses-data.s3.us.cloud-object-storage.appdomain.cloud/IBM-ML321EN-SkillsNetwork/labs/module_2/images/bow.png)\n"
      ]
    },
    {
      "cell_type": "markdown",
      "metadata": {
        "id": "26wXsFtnsW_q"
      },
      "source": [
        "### BoW dimensionality reduction\n"
      ]
    },
    {
      "cell_type": "markdown",
      "metadata": {
        "id": "lhGXPV4wsW_q"
      },
      "source": [
        "A document may contain tens of thousands of words which makes the dimension of the BoW feature vector huge. To reduce the dimensionality, one common way is to filter the relatively meaningless tokens such as stop words or sometimes add position and adjective words.\n"
      ]
    },
    {
      "cell_type": "markdown",
      "metadata": {
        "id": "Q4s-t4GLsW_q"
      },
      "source": [
        "Note there are many other ways to reduce dimensionality such as `stemming` and `lemmatization` but they are beyond the scope of this capstone project. You are encouraged to explore them yourself.\n"
      ]
    },
    {
      "cell_type": "markdown",
      "metadata": {
        "id": "E2FHeGX7sW_r"
      },
      "source": [
        "We can use the english stop words provided in `nltk`:\n"
      ]
    },
    {
      "cell_type": "code",
      "execution_count": 15,
      "metadata": {
        "id": "rVMg2Va3sW_r"
      },
      "outputs": [],
      "source": [
        "stop_words = set(stopwords.words('english'))"
      ]
    },
    {
      "cell_type": "code",
      "execution_count": 16,
      "metadata": {
        "colab": {
          "base_uri": "https://localhost:8080/"
        },
        "id": "qP0aP6_bsW_r",
        "outputId": "530e3ee4-47aa-4bbb-e5c4-57b67d1c5e10"
      },
      "outputs": [
        {
          "output_type": "execute_result",
          "data": {
            "text/plain": [
              "{'a',\n",
              " 'about',\n",
              " 'above',\n",
              " 'after',\n",
              " 'again',\n",
              " 'against',\n",
              " 'ain',\n",
              " 'all',\n",
              " 'am',\n",
              " 'an',\n",
              " 'and',\n",
              " 'any',\n",
              " 'are',\n",
              " 'aren',\n",
              " \"aren't\",\n",
              " 'as',\n",
              " 'at',\n",
              " 'be',\n",
              " 'because',\n",
              " 'been',\n",
              " 'before',\n",
              " 'being',\n",
              " 'below',\n",
              " 'between',\n",
              " 'both',\n",
              " 'but',\n",
              " 'by',\n",
              " 'can',\n",
              " 'couldn',\n",
              " \"couldn't\",\n",
              " 'd',\n",
              " 'did',\n",
              " 'didn',\n",
              " \"didn't\",\n",
              " 'do',\n",
              " 'does',\n",
              " 'doesn',\n",
              " \"doesn't\",\n",
              " 'doing',\n",
              " 'don',\n",
              " \"don't\",\n",
              " 'down',\n",
              " 'during',\n",
              " 'each',\n",
              " 'few',\n",
              " 'for',\n",
              " 'from',\n",
              " 'further',\n",
              " 'had',\n",
              " 'hadn',\n",
              " \"hadn't\",\n",
              " 'has',\n",
              " 'hasn',\n",
              " \"hasn't\",\n",
              " 'have',\n",
              " 'haven',\n",
              " \"haven't\",\n",
              " 'having',\n",
              " 'he',\n",
              " 'her',\n",
              " 'here',\n",
              " 'hers',\n",
              " 'herself',\n",
              " 'him',\n",
              " 'himself',\n",
              " 'his',\n",
              " 'how',\n",
              " 'i',\n",
              " 'if',\n",
              " 'in',\n",
              " 'into',\n",
              " 'is',\n",
              " 'isn',\n",
              " \"isn't\",\n",
              " 'it',\n",
              " \"it's\",\n",
              " 'its',\n",
              " 'itself',\n",
              " 'just',\n",
              " 'll',\n",
              " 'm',\n",
              " 'ma',\n",
              " 'me',\n",
              " 'mightn',\n",
              " \"mightn't\",\n",
              " 'more',\n",
              " 'most',\n",
              " 'mustn',\n",
              " \"mustn't\",\n",
              " 'my',\n",
              " 'myself',\n",
              " 'needn',\n",
              " \"needn't\",\n",
              " 'no',\n",
              " 'nor',\n",
              " 'not',\n",
              " 'now',\n",
              " 'o',\n",
              " 'of',\n",
              " 'off',\n",
              " 'on',\n",
              " 'once',\n",
              " 'only',\n",
              " 'or',\n",
              " 'other',\n",
              " 'our',\n",
              " 'ours',\n",
              " 'ourselves',\n",
              " 'out',\n",
              " 'over',\n",
              " 'own',\n",
              " 're',\n",
              " 's',\n",
              " 'same',\n",
              " 'shan',\n",
              " \"shan't\",\n",
              " 'she',\n",
              " \"she's\",\n",
              " 'should',\n",
              " \"should've\",\n",
              " 'shouldn',\n",
              " \"shouldn't\",\n",
              " 'so',\n",
              " 'some',\n",
              " 'such',\n",
              " 't',\n",
              " 'than',\n",
              " 'that',\n",
              " \"that'll\",\n",
              " 'the',\n",
              " 'their',\n",
              " 'theirs',\n",
              " 'them',\n",
              " 'themselves',\n",
              " 'then',\n",
              " 'there',\n",
              " 'these',\n",
              " 'they',\n",
              " 'this',\n",
              " 'those',\n",
              " 'through',\n",
              " 'to',\n",
              " 'too',\n",
              " 'under',\n",
              " 'until',\n",
              " 'up',\n",
              " 've',\n",
              " 'very',\n",
              " 'was',\n",
              " 'wasn',\n",
              " \"wasn't\",\n",
              " 'we',\n",
              " 'were',\n",
              " 'weren',\n",
              " \"weren't\",\n",
              " 'what',\n",
              " 'when',\n",
              " 'where',\n",
              " 'which',\n",
              " 'while',\n",
              " 'who',\n",
              " 'whom',\n",
              " 'why',\n",
              " 'will',\n",
              " 'with',\n",
              " 'won',\n",
              " \"won't\",\n",
              " 'wouldn',\n",
              " \"wouldn't\",\n",
              " 'y',\n",
              " 'you',\n",
              " \"you'd\",\n",
              " \"you'll\",\n",
              " \"you're\",\n",
              " \"you've\",\n",
              " 'your',\n",
              " 'yours',\n",
              " 'yourself',\n",
              " 'yourselves'}"
            ]
          },
          "metadata": {},
          "execution_count": 16
        }
      ],
      "source": [
        "stop_words"
      ]
    },
    {
      "cell_type": "markdown",
      "metadata": {
        "id": "itE30BmOsW_r"
      },
      "source": [
        "Then we can filter those English stop words from the tokens in course1:\n"
      ]
    },
    {
      "cell_type": "code",
      "execution_count": 17,
      "metadata": {
        "colab": {
          "base_uri": "https://localhost:8080/"
        },
        "id": "8YCDVnoCsW_s",
        "outputId": "a6ed4dbb-7ddf-46aa-d8b7-7e4ff3fe7d04"
      },
      "outputs": [
        {
          "output_type": "execute_result",
          "data": {
            "text/plain": [
              "['this',\n",
              " 'is',\n",
              " 'an',\n",
              " 'introduction',\n",
              " 'data',\n",
              " 'science',\n",
              " 'course',\n",
              " 'which',\n",
              " 'introduces',\n",
              " 'data',\n",
              " 'science',\n",
              " 'to',\n",
              " 'beginners']"
            ]
          },
          "metadata": {},
          "execution_count": 17
        }
      ],
      "source": [
        "# Tokens in course 1\n",
        "tokenized_courses[0]"
      ]
    },
    {
      "cell_type": "code",
      "execution_count": 18,
      "metadata": {
        "id": "w4QPuNv6sW_s"
      },
      "outputs": [],
      "source": [
        "processed_tokens = [w for w in tokenized_courses[0] if not w.lower() in stop_words]"
      ]
    },
    {
      "cell_type": "code",
      "execution_count": 19,
      "metadata": {
        "colab": {
          "base_uri": "https://localhost:8080/"
        },
        "id": "kQ5Tf6LcsW_s",
        "outputId": "fc8e84c3-29e4-483c-a7d3-4da87996662f"
      },
      "outputs": [
        {
          "output_type": "execute_result",
          "data": {
            "text/plain": [
              "['introduction',\n",
              " 'data',\n",
              " 'science',\n",
              " 'course',\n",
              " 'introduces',\n",
              " 'data',\n",
              " 'science',\n",
              " 'beginners']"
            ]
          },
          "metadata": {},
          "execution_count": 19
        }
      ],
      "source": [
        "processed_tokens"
      ]
    },
    {
      "cell_type": "markdown",
      "metadata": {
        "id": "IjeE8LDhsW_s"
      },
      "source": [
        "You can see the number of tokens for ```course1``` has been reduced.\n"
      ]
    },
    {
      "cell_type": "markdown",
      "metadata": {
        "id": "tQztNQNcsW_s"
      },
      "source": [
        "Another common way is to only keep nouns in the text. We can use the `nltk.pos_tag()` method to analyze the part of speech (POS) and annotate each word.\n"
      ]
    },
    {
      "cell_type": "code",
      "execution_count": 20,
      "metadata": {
        "colab": {
          "base_uri": "https://localhost:8080/"
        },
        "id": "E45LKIBAsW_t",
        "outputId": "29143174-85db-4dcd-b5ae-a54245b22082"
      },
      "outputs": [
        {
          "output_type": "execute_result",
          "data": {
            "text/plain": [
              "[('this', 'DT'),\n",
              " ('is', 'VBZ'),\n",
              " ('an', 'DT'),\n",
              " ('introduction', 'NN'),\n",
              " ('data', 'NNS'),\n",
              " ('science', 'NN'),\n",
              " ('course', 'NN'),\n",
              " ('which', 'WDT'),\n",
              " ('introduces', 'VBZ'),\n",
              " ('data', 'NNS'),\n",
              " ('science', 'NN'),\n",
              " ('to', 'TO'),\n",
              " ('beginners', 'NNS')]"
            ]
          },
          "metadata": {},
          "execution_count": 20
        }
      ],
      "source": [
        "tags = nltk.pos_tag(tokenized_courses[0])\n",
        "tags"
      ]
    },
    {
      "cell_type": "markdown",
      "metadata": {
        "id": "7v0l07IWsW_t"
      },
      "source": [
        "As we can see [`introduction`, `data`, `science`, `course`, `beginners`] are all of the nouns and we may keep them in the BoW feature vector.\n"
      ]
    },
    {
      "cell_type": "markdown",
      "metadata": {
        "id": "-W67vfMosW_t"
      },
      "source": [
        "### TASK: Extract BoW features for course textual content and build a dataset\n"
      ]
    },
    {
      "cell_type": "markdown",
      "metadata": {
        "id": "LeWCZ8hosW_t"
      },
      "source": [
        "By now you have learned what a BoW feature is, so let's start extracting BoW features from some real course textual content.\n"
      ]
    },
    {
      "cell_type": "code",
      "execution_count": 21,
      "metadata": {
        "id": "LAeZgh95sW_t"
      },
      "outputs": [],
      "source": [
        "course_url = \"https://cf-courses-data.s3.us.cloud-object-storage.appdomain.cloud/IBM-ML321EN-SkillsNetwork/labs/datasets/course_processed.csv\"\n",
        "course_content_df = pd.read_csv(course_url)"
      ]
    },
    {
      "cell_type": "code",
      "execution_count": 22,
      "metadata": {
        "colab": {
          "base_uri": "https://localhost:8080/"
        },
        "id": "4INdng5gsW_u",
        "outputId": "7ec253d2-fb8b-493f-a5e3-01f09dc5041d"
      },
      "outputs": [
        {
          "output_type": "execute_result",
          "data": {
            "text/plain": [
              "COURSE_ID                                               ML0201EN\n",
              "TITLE          robots are coming  build iot apps with watson ...\n",
              "DESCRIPTION    have fun with iot and learn along the way  if ...\n",
              "Name: 0, dtype: object"
            ]
          },
          "metadata": {},
          "execution_count": 22
        }
      ],
      "source": [
        "course_content_df.iloc[0, :]"
      ]
    },
    {
      "cell_type": "markdown",
      "metadata": {
        "id": "Vd5GgGMPsW_u"
      },
      "source": [
        "The course content dataset has three columns `COURSE_ID`, `TITLE`, and `DESCRIPTION`. `TITLE` and `DESCRIPTION` are all text upon which we want to extract BoW features.\n"
      ]
    },
    {
      "cell_type": "markdown",
      "metadata": {
        "id": "-kLr_AqIsW_u"
      },
      "source": [
        "Let's join those two text columns together.\n"
      ]
    },
    {
      "cell_type": "code",
      "execution_count": 23,
      "metadata": {
        "id": "xsIOy1kLsW_u"
      },
      "outputs": [],
      "source": [
        "# Merge TITLE and DESCRIPTION title\n",
        "course_content_df['course_texts'] = course_content_df[['TITLE', 'DESCRIPTION']].agg(' '.join, axis=1)\n",
        "course_content_df = course_content_df.reset_index()\n",
        "course_content_df['index'] = course_content_df.index"
      ]
    },
    {
      "cell_type": "code",
      "execution_count": 24,
      "metadata": {
        "colab": {
          "base_uri": "https://localhost:8080/"
        },
        "id": "wXQlGWzLsW_u",
        "outputId": "e3b38b3c-b47a-4dc3-81cc-698869870a85"
      },
      "outputs": [
        {
          "output_type": "execute_result",
          "data": {
            "text/plain": [
              "index                                                           0\n",
              "COURSE_ID                                                ML0201EN\n",
              "TITLE           robots are coming  build iot apps with watson ...\n",
              "DESCRIPTION     have fun with iot and learn along the way  if ...\n",
              "course_texts    robots are coming  build iot apps with watson ...\n",
              "Name: 0, dtype: object"
            ]
          },
          "metadata": {},
          "execution_count": 24
        }
      ],
      "source": [
        "course_content_df.iloc[0, :]"
      ]
    },
    {
      "cell_type": "markdown",
      "metadata": {
        "id": "Gm5XSUO3sW_v"
      },
      "source": [
        "and we have prepared a `tokenize_course()` method for you to tokenize the course content:\n"
      ]
    },
    {
      "cell_type": "code",
      "execution_count": 25,
      "metadata": {
        "id": "rKARncrasW_v"
      },
      "outputs": [],
      "source": [
        "def tokenize_course(course, keep_only_nouns=True):\n",
        "    stop_words = set(stopwords.words('english'))\n",
        "    word_tokens = word_tokenize(course)\n",
        "    # Remove English stop words and numbers\n",
        "    word_tokens = [w for w in word_tokens if (not w.lower() in stop_words) and (not w.isnumeric())]\n",
        "    # Only keep nouns\n",
        "    if keep_only_nouns:\n",
        "        filter_list = ['WDT', 'WP', 'WRB', 'FW', 'IN', 'JJR', 'JJS', 'MD', 'PDT', 'POS', 'PRP', 'RB', 'RBR', 'RBS',\n",
        "                       'RP']\n",
        "        tags = nltk.pos_tag(word_tokens)\n",
        "        word_tokens = [word for word, pos in tags if pos not in filter_list]\n",
        "\n",
        "    return word_tokens"
      ]
    },
    {
      "cell_type": "markdown",
      "metadata": {
        "id": "8QqbCwOJsW_v"
      },
      "source": [
        "Let's try it on the first course.\n"
      ]
    },
    {
      "cell_type": "code",
      "execution_count": 26,
      "metadata": {
        "colab": {
          "base_uri": "https://localhost:8080/",
          "height": 89
        },
        "id": "JIsIWEWQsW_v",
        "outputId": "28e2c87c-d944-48b9-f847-e760fc28cd7a"
      },
      "outputs": [
        {
          "output_type": "execute_result",
          "data": {
            "text/plain": [
              "'robots are coming  build iot apps with watson  swift  and node red have fun with iot and learn along the way  if you re a swift developer and want to learn more about iot and watson ai services in the cloud  raspberry pi   and node red  you ve found the right place  you ll build iot apps to read temperature data  take pictures with a raspcam  use ai to recognize the objects in those pictures  and program an irobot create 2 robot  '"
            ],
            "application/vnd.google.colaboratory.intrinsic+json": {
              "type": "string"
            }
          },
          "metadata": {},
          "execution_count": 26
        }
      ],
      "source": [
        "a_course = course_content_df.iloc[0, :]['course_texts']\n",
        "a_course"
      ]
    },
    {
      "cell_type": "code",
      "execution_count": 27,
      "metadata": {
        "colab": {
          "base_uri": "https://localhost:8080/"
        },
        "id": "H_3QSuE9sW_w",
        "outputId": "624c6206-ead8-4b51-867e-f969a4cfd8ef"
      },
      "outputs": [
        {
          "output_type": "execute_result",
          "data": {
            "text/plain": [
              "['robots',\n",
              " 'coming',\n",
              " 'build',\n",
              " 'iot',\n",
              " 'apps',\n",
              " 'watson',\n",
              " 'swift',\n",
              " 'red',\n",
              " 'fun',\n",
              " 'iot',\n",
              " 'learn',\n",
              " 'way',\n",
              " 'swift',\n",
              " 'developer',\n",
              " 'want',\n",
              " 'learn',\n",
              " 'iot',\n",
              " 'watson',\n",
              " 'ai',\n",
              " 'services',\n",
              " 'cloud',\n",
              " 'raspberry',\n",
              " 'pi',\n",
              " 'node',\n",
              " 'red',\n",
              " 'found',\n",
              " 'place',\n",
              " 'build',\n",
              " 'iot',\n",
              " 'apps',\n",
              " 'read',\n",
              " 'temperature',\n",
              " 'data',\n",
              " 'take',\n",
              " 'pictures',\n",
              " 'raspcam',\n",
              " 'use',\n",
              " 'ai',\n",
              " 'recognize',\n",
              " 'objects',\n",
              " 'pictures',\n",
              " 'program',\n",
              " 'irobot',\n",
              " 'create',\n",
              " 'robot']"
            ]
          },
          "metadata": {},
          "execution_count": 27
        }
      ],
      "source": [
        "tokenize_course(a_course)"
      ]
    },
    {
      "cell_type": "markdown",
      "metadata": {
        "id": "TTEnmMorsW_w"
      },
      "source": [
        "Next, you will need to write some code snippets to generate the BoW features for each course. Let's start by tokenzing all courses in the `courses_df`:\n"
      ]
    },
    {
      "cell_type": "markdown",
      "metadata": {
        "id": "gjW9yhU3sW_w"
      },
      "source": [
        "_TODO: Use provided tokenize_course() method to tokenize all courses in courses_df['course_texts']._\n"
      ]
    },
    {
      "cell_type": "code",
      "execution_count": 28,
      "metadata": {
        "id": "MjRxUpmDsW_w"
      },
      "outputs": [],
      "source": [
        "# WRITE YOUR CODE HERE\n",
        "\n",
        "course_conent = [tokenize_course(course) for course in course_content_df['course_texts']]\n"
      ]
    },
    {
      "cell_type": "markdown",
      "metadata": {
        "id": "p2lDUytXsW_x"
      },
      "source": [
        "\n",
        "<details>\n",
        "    <summary>Click here for Hints</summary>\n",
        "\n",
        "Use `tokenize_course(text, True)` command to tokenize each text in `courses_df['course_texts']`\n"
      ]
    },
    {
      "cell_type": "markdown",
      "metadata": {
        "id": "CwcInESvsW_x"
      },
      "source": [
        "Then we need to create a token dictionary `tokens_dict`\n"
      ]
    },
    {
      "cell_type": "markdown",
      "metadata": {
        "id": "4NvuqAOpsW_x"
      },
      "source": [
        "_TODO: Use gensim.corpora.Dictionary(tokenized_courses) to create a token dictionary._\n"
      ]
    },
    {
      "cell_type": "code",
      "execution_count": 29,
      "metadata": {
        "id": "_HrOfCiLsW_x"
      },
      "outputs": [],
      "source": [
        "# WRITE YOUR CODE HERE\n",
        "tokens_dict = gensim.corpora.Dictionary(course_conent)\n"
      ]
    },
    {
      "cell_type": "markdown",
      "metadata": {
        "id": "e-dw1ljTsW_x"
      },
      "source": [
        "Then we can use `doc2bow()` method to generate BoW features for each tokenized course.\n"
      ]
    },
    {
      "cell_type": "markdown",
      "metadata": {
        "id": "ilmazTtosW_x"
      },
      "source": [
        "_TODO: Use tokens_dict.doc2bow() to generate BoW features for each tokenized course._\n"
      ]
    },
    {
      "cell_type": "code",
      "execution_count": 36,
      "metadata": {
        "id": "9O7oVwGAsW_y"
      },
      "outputs": [],
      "source": [
        "# WRITE YOUR CODE HERE\n",
        "course_bow=[tokens_dict.doc2bow(course) for course in course_conent]\n"
      ]
    },
    {
      "cell_type": "markdown",
      "metadata": {
        "id": "nuJtmCM5sW_y"
      },
      "source": [
        "<details>\n",
        "    <summary>Click here for Hints</summary>\n",
        "    \n",
        "You can use `tokens_dict.doc2bow(course)` command  for each course in `tokenized_courses`\n"
      ]
    },
    {
      "cell_type": "markdown",
      "metadata": {
        "id": "8nSUiDU9sW_y"
      },
      "source": [
        "Lastly, you need to append the BoW features for each course into a new BoW dataframe. The new dataframe needs to include the following columns (you may include other relevant columns as well):\n",
        "- 'doc_index': the course index starting from 0\n",
        "- 'doc_id': the actual course id such as `ML0201EN`\n",
        "- 'token': the tokens for each course\n",
        "- 'bow': the bow value for each token\n"
      ]
    },
    {
      "cell_type": "markdown",
      "metadata": {
        "id": "nOzZEuVzsW_y"
      },
      "source": [
        "_TODO: Create a new course_bow dataframe based on the extracted BoW features._\n"
      ]
    },
    {
      "cell_type": "code",
      "execution_count": 37,
      "metadata": {
        "colab": {
          "base_uri": "https://localhost:8080/",
          "height": 81
        },
        "id": "bJMVuHnCsW_y",
        "outputId": "4e681492-eafd-4e21-9850-f6a7604dcdc0"
      },
      "outputs": [
        {
          "output_type": "execute_result",
          "data": {
            "text/plain": [
              "   doc_index      doc_id     token  bow\n",
              "0        306  excourse93  populate    1"
            ],
            "text/html": [
              "\n",
              "\n",
              "  <div id=\"df-86e287a6-5dcf-4798-b38d-28dc6970d8b1\">\n",
              "    <div class=\"colab-df-container\">\n",
              "      <div>\n",
              "<style scoped>\n",
              "    .dataframe tbody tr th:only-of-type {\n",
              "        vertical-align: middle;\n",
              "    }\n",
              "\n",
              "    .dataframe tbody tr th {\n",
              "        vertical-align: top;\n",
              "    }\n",
              "\n",
              "    .dataframe thead th {\n",
              "        text-align: right;\n",
              "    }\n",
              "</style>\n",
              "<table border=\"1\" class=\"dataframe\">\n",
              "  <thead>\n",
              "    <tr style=\"text-align: right;\">\n",
              "      <th></th>\n",
              "      <th>doc_index</th>\n",
              "      <th>doc_id</th>\n",
              "      <th>token</th>\n",
              "      <th>bow</th>\n",
              "    </tr>\n",
              "  </thead>\n",
              "  <tbody>\n",
              "    <tr>\n",
              "      <th>0</th>\n",
              "      <td>306</td>\n",
              "      <td>excourse93</td>\n",
              "      <td>populate</td>\n",
              "      <td>1</td>\n",
              "    </tr>\n",
              "  </tbody>\n",
              "</table>\n",
              "</div>\n",
              "      <button class=\"colab-df-convert\" onclick=\"convertToInteractive('df-86e287a6-5dcf-4798-b38d-28dc6970d8b1')\"\n",
              "              title=\"Convert this dataframe to an interactive table.\"\n",
              "              style=\"display:none;\">\n",
              "\n",
              "  <svg xmlns=\"http://www.w3.org/2000/svg\" height=\"24px\"viewBox=\"0 0 24 24\"\n",
              "       width=\"24px\">\n",
              "    <path d=\"M0 0h24v24H0V0z\" fill=\"none\"/>\n",
              "    <path d=\"M18.56 5.44l.94 2.06.94-2.06 2.06-.94-2.06-.94-.94-2.06-.94 2.06-2.06.94zm-11 1L8.5 8.5l.94-2.06 2.06-.94-2.06-.94L8.5 2.5l-.94 2.06-2.06.94zm10 10l.94 2.06.94-2.06 2.06-.94-2.06-.94-.94-2.06-.94 2.06-2.06.94z\"/><path d=\"M17.41 7.96l-1.37-1.37c-.4-.4-.92-.59-1.43-.59-.52 0-1.04.2-1.43.59L10.3 9.45l-7.72 7.72c-.78.78-.78 2.05 0 2.83L4 21.41c.39.39.9.59 1.41.59.51 0 1.02-.2 1.41-.59l7.78-7.78 2.81-2.81c.8-.78.8-2.07 0-2.86zM5.41 20L4 18.59l7.72-7.72 1.47 1.35L5.41 20z\"/>\n",
              "  </svg>\n",
              "      </button>\n",
              "\n",
              "\n",
              "\n",
              "    <div id=\"df-6402465d-d627-455c-9bbc-dd57dccb26c8\">\n",
              "      <button class=\"colab-df-quickchart\" onclick=\"quickchart('df-6402465d-d627-455c-9bbc-dd57dccb26c8')\"\n",
              "              title=\"Suggest charts.\"\n",
              "              style=\"display:none;\">\n",
              "\n",
              "<svg xmlns=\"http://www.w3.org/2000/svg\" height=\"24px\"viewBox=\"0 0 24 24\"\n",
              "     width=\"24px\">\n",
              "    <g>\n",
              "        <path d=\"M19 3H5c-1.1 0-2 .9-2 2v14c0 1.1.9 2 2 2h14c1.1 0 2-.9 2-2V5c0-1.1-.9-2-2-2zM9 17H7v-7h2v7zm4 0h-2V7h2v10zm4 0h-2v-4h2v4z\"/>\n",
              "    </g>\n",
              "</svg>\n",
              "      </button>\n",
              "    </div>\n",
              "\n",
              "<style>\n",
              "  .colab-df-quickchart {\n",
              "    background-color: #E8F0FE;\n",
              "    border: none;\n",
              "    border-radius: 50%;\n",
              "    cursor: pointer;\n",
              "    display: none;\n",
              "    fill: #1967D2;\n",
              "    height: 32px;\n",
              "    padding: 0 0 0 0;\n",
              "    width: 32px;\n",
              "  }\n",
              "\n",
              "  .colab-df-quickchart:hover {\n",
              "    background-color: #E2EBFA;\n",
              "    box-shadow: 0px 1px 2px rgba(60, 64, 67, 0.3), 0px 1px 3px 1px rgba(60, 64, 67, 0.15);\n",
              "    fill: #174EA6;\n",
              "  }\n",
              "\n",
              "  [theme=dark] .colab-df-quickchart {\n",
              "    background-color: #3B4455;\n",
              "    fill: #D2E3FC;\n",
              "  }\n",
              "\n",
              "  [theme=dark] .colab-df-quickchart:hover {\n",
              "    background-color: #434B5C;\n",
              "    box-shadow: 0px 1px 3px 1px rgba(0, 0, 0, 0.15);\n",
              "    filter: drop-shadow(0px 1px 2px rgba(0, 0, 0, 0.3));\n",
              "    fill: #FFFFFF;\n",
              "  }\n",
              "</style>\n",
              "\n",
              "    <script>\n",
              "      async function quickchart(key) {\n",
              "        const containerElement = document.querySelector('#' + key);\n",
              "        const charts = await google.colab.kernel.invokeFunction(\n",
              "            'suggestCharts', [key], {});\n",
              "      }\n",
              "    </script>\n",
              "\n",
              "      <script>\n",
              "\n",
              "function displayQuickchartButton(domScope) {\n",
              "  let quickchartButtonEl =\n",
              "    domScope.querySelector('#df-6402465d-d627-455c-9bbc-dd57dccb26c8 button.colab-df-quickchart');\n",
              "  quickchartButtonEl.style.display =\n",
              "    google.colab.kernel.accessAllowed ? 'block' : 'none';\n",
              "}\n",
              "\n",
              "        displayQuickchartButton(document);\n",
              "      </script>\n",
              "      <style>\n",
              "    .colab-df-container {\n",
              "      display:flex;\n",
              "      flex-wrap:wrap;\n",
              "      gap: 12px;\n",
              "    }\n",
              "\n",
              "    .colab-df-convert {\n",
              "      background-color: #E8F0FE;\n",
              "      border: none;\n",
              "      border-radius: 50%;\n",
              "      cursor: pointer;\n",
              "      display: none;\n",
              "      fill: #1967D2;\n",
              "      height: 32px;\n",
              "      padding: 0 0 0 0;\n",
              "      width: 32px;\n",
              "    }\n",
              "\n",
              "    .colab-df-convert:hover {\n",
              "      background-color: #E2EBFA;\n",
              "      box-shadow: 0px 1px 2px rgba(60, 64, 67, 0.3), 0px 1px 3px 1px rgba(60, 64, 67, 0.15);\n",
              "      fill: #174EA6;\n",
              "    }\n",
              "\n",
              "    [theme=dark] .colab-df-convert {\n",
              "      background-color: #3B4455;\n",
              "      fill: #D2E3FC;\n",
              "    }\n",
              "\n",
              "    [theme=dark] .colab-df-convert:hover {\n",
              "      background-color: #434B5C;\n",
              "      box-shadow: 0px 1px 3px 1px rgba(0, 0, 0, 0.15);\n",
              "      filter: drop-shadow(0px 1px 2px rgba(0, 0, 0, 0.3));\n",
              "      fill: #FFFFFF;\n",
              "    }\n",
              "  </style>\n",
              "\n",
              "      <script>\n",
              "        const buttonEl =\n",
              "          document.querySelector('#df-86e287a6-5dcf-4798-b38d-28dc6970d8b1 button.colab-df-convert');\n",
              "        buttonEl.style.display =\n",
              "          google.colab.kernel.accessAllowed ? 'block' : 'none';\n",
              "\n",
              "        async function convertToInteractive(key) {\n",
              "          const element = document.querySelector('#df-86e287a6-5dcf-4798-b38d-28dc6970d8b1');\n",
              "          const dataTable =\n",
              "            await google.colab.kernel.invokeFunction('convertToInteractive',\n",
              "                                                     [key], {});\n",
              "          if (!dataTable) return;\n",
              "\n",
              "          const docLinkHtml = 'Like what you see? Visit the ' +\n",
              "            '<a target=\"_blank\" href=https://colab.research.google.com/notebooks/data_table.ipynb>data table notebook</a>'\n",
              "            + ' to learn more about interactive tables.';\n",
              "          element.innerHTML = '';\n",
              "          dataTable['output_type'] = 'display_data';\n",
              "          await google.colab.output.renderOutput(dataTable, element);\n",
              "          const docLink = document.createElement('div');\n",
              "          docLink.innerHTML = docLinkHtml;\n",
              "          element.appendChild(docLink);\n",
              "        }\n",
              "      </script>\n",
              "    </div>\n",
              "  </div>\n"
            ]
          },
          "metadata": {},
          "execution_count": 37
        }
      ],
      "source": [
        "# WRITE YOUR CODE HERE\n",
        "bow_dic ={}\n",
        "for course_idx, course_bow in enumerate(course_bow):\n",
        "    # For each token index, print its bow value (word count)\n",
        "    for token_index, token_bow in course_bow:\n",
        "        token = tokens_dict.get(token_index)\n",
        "        # bow_dic ={\"doc_index\":course_idx,\n",
        "        #           \"doc_id\":course_content_df['COURSE_ID'][course_idx],\n",
        "        #           \"token\":token,\n",
        "        #           \"bow\":token_bow\n",
        "        #          }\n",
        "        bow_dic[\"doc_index\"]=course_idx\n",
        "        bow_dic[\"doc_id\"]= course_content_df['COURSE_ID'][course_idx]\n",
        "        bow_dic[\"token\"]=token\n",
        "        bow_dic[ \"bow\"]=token_bow\n",
        "\n",
        "\n",
        "\n",
        "\n",
        "mrw=pd.DataFrame.from_dict([bow_dic])\n",
        "mrw.head()"
      ]
    },
    {
      "cell_type": "markdown",
      "metadata": {
        "id": "9_oyNEWrsW_z"
      },
      "source": [
        "<details>\n",
        "    <summary>Click here for Hints</summary>\n",
        "    \n",
        "You can use 2 for-loops to create your data frame: first one will be `for doc_index, doc_bow in enumerate(bow_docs):` where bow_docs is the list of BoW features for each tokenized course and within this for-loop you will have another loop `for token_index, token_bow in doc_bow:`. Then you can get each \"token\" by applying the `token_index` to your `token_dict`,  `token_bow` will give you \"bow\" values, `doc_indices` will give you values for  \"doc_index\" and you can get \"doc_id\" by using `courses_df['COURSE_ID']` list and `doc_index` as indexes.\n"
      ]
    },
    {
      "cell_type": "markdown",
      "metadata": {
        "id": "DkSidUpNsW_z"
      },
      "source": [
        "Your course BoW dataframe may look like the following:\n"
      ]
    },
    {
      "cell_type": "markdown",
      "metadata": {
        "id": "WDlFTCMJsW_z"
      },
      "source": [
        "![](https://cf-courses-data.s3.us.cloud-object-storage.appdomain.cloud/IBM-ML321EN-SkillsNetwork/labs/module_2/images/bow_dataset.png)\n"
      ]
    },
    {
      "cell_type": "markdown",
      "metadata": {
        "id": "YHHn85w6sW_z"
      },
      "source": [
        "You may refer to previous code examples in this lab if you need help with creating the BoW dataframe.\n"
      ]
    },
    {
      "cell_type": "markdown",
      "metadata": {
        "id": "173t8KgJsW_z"
      },
      "source": [
        "### Other popular textual features\n"
      ]
    },
    {
      "cell_type": "markdown",
      "metadata": {
        "id": "lZjeb6GmsW_z"
      },
      "source": [
        "In addition to the basic token BoW feature, there are two other types of widely used textual features. If you are interested, you may explore them yourself to learn how to extract them from the course textual content:\n"
      ]
    },
    {
      "cell_type": "markdown",
      "metadata": {
        "id": "f6jU5VEosW_z"
      },
      "source": [
        "- **tf-idf**: tf-idf refers to Term Frequency–Inverse Document Frequency. Similar to BoW, the tf-idf also counts the word frequencies in each document. Furthermore, tf-idf will  offset the number of documents in the corpus that contain the word in order to adjust for the fact that some words appear more frequently in general. The higher the tf-idf normally means the greater the importance the word/token is.\n",
        "- **Text embedding vector**. Embedding means projecting an object into a latent feature space. We normally employ neural networks or deep neural networks to learn the latent features of a textual object such as a word, a sentence, or the entire document. The learned latent feature vectors will be used to represent the original textual entities.\n"
      ]
    },
    {
      "cell_type": "markdown",
      "metadata": {
        "id": "nq_MMD_psW_0"
      },
      "source": [
        "### Summary\n"
      ]
    },
    {
      "cell_type": "markdown",
      "metadata": {
        "id": "I5m4Hnq-sW_0"
      },
      "source": [
        "Congratulations, you have completed the BoW feature extraction lab. In this lab, you have learned and practiced extracting BoW features from course titles and descriptions. Once the feature vectors on the courses has been built, we can then apply machine learning algorithms such as similarity measurements, clustering, or classification on the courses in later labs.\n"
      ]
    },
    {
      "cell_type": "markdown",
      "metadata": {
        "id": "Hn_wqcMLsW_0"
      },
      "source": [
        "## Authors\n"
      ]
    },
    {
      "cell_type": "markdown",
      "metadata": {
        "id": "I0_PCr--sW_0"
      },
      "source": [
        "[Yan Luo](https://www.linkedin.com/in/yan-luo-96288783/?utm_medium=Exinfluencer&utm_source=Exinfluencer&utm_content=000026UJ&utm_term=10006555&utm_id=NA-SkillsNetwork-Channel-SkillsNetworkCoursesIBMML321ENSkillsNetwork817-2022-01-01)\n"
      ]
    },
    {
      "cell_type": "markdown",
      "metadata": {
        "id": "IEFJasIysW_1"
      },
      "source": [
        "### Other Contributors\n"
      ]
    },
    {
      "cell_type": "markdown",
      "metadata": {
        "id": "UKGWlb6rsW_1"
      },
      "source": [
        "## Change Log\n"
      ]
    },
    {
      "cell_type": "markdown",
      "metadata": {
        "id": "rvPT0OausW_1"
      },
      "source": [
        "|Date (YYYY-MM-DD)|Version|Changed By|Change Description|\n",
        "|-|-|-|-|\n",
        "|2021-10-25|1.0|Yan|Created the initial version|\n"
      ]
    },
    {
      "cell_type": "markdown",
      "metadata": {
        "id": "6G5R1tXzsW_1"
      },
      "source": [
        "Copyright © 2021 IBM Corporation. All rights reserved.\n"
      ]
    }
  ],
  "metadata": {
    "kernelspec": {
      "display_name": "Python",
      "language": "python",
      "name": "conda-env-python-py"
    },
    "language_info": {
      "codemirror_mode": {
        "name": "ipython",
        "version": 3
      },
      "file_extension": ".py",
      "mimetype": "text/x-python",
      "name": "python",
      "nbconvert_exporter": "python",
      "pygments_lexer": "ipython3",
      "version": "3.7.12"
    },
    "colab": {
      "provenance": [],
      "toc_visible": true
    }
  },
  "nbformat": 4,
  "nbformat_minor": 0
}