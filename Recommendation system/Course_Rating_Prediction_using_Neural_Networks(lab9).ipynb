{
  "cells": [
    {
      "cell_type": "markdown",
      "metadata": {
        "id": "0wk98sPv-Bxj"
      },
      "source": [
        "<p style=\"text-align:center\">\n",
        "    <a href=\"https://skills.network/?utm_medium=Exinfluencer&utm_source=Exinfluencer&utm_content=000026UJ&utm_term=10006555&utm_id=NA-SkillsNetwork-Channel-SkillsNetworkCoursesIBMML321ENSkillsNetwork817-2022-01-01\" target=\"_blank\">\n",
        "    <img src=\"https://cf-courses-data.s3.us.cloud-object-storage.appdomain.cloud/assets/logos/SN_web_lightmode.png\" width=\"200\" alt=\"Skills Network Logo\"  />\n",
        "    </a>\n",
        "</p>\n"
      ]
    },
    {
      "cell_type": "markdown",
      "metadata": {
        "id": "yFV6X15o-Bxl"
      },
      "source": [
        "# **Course Rating Prediction using Neural Networks**\n"
      ]
    },
    {
      "cell_type": "markdown",
      "metadata": {
        "id": "EtWlNHnx-Bxm"
      },
      "source": [
        "Estimated time needed: **60** minutes\n"
      ]
    },
    {
      "cell_type": "markdown",
      "metadata": {
        "id": "Ogz3HXE4-Bxm"
      },
      "source": [
        "In the previous labs, we have crafted several types of user and item feature vectors.  For example, given a user `i`, we may build its profile feature vector and course rating feature vector, and given an item `j`, we may create its genre vector and user enrollment vectors.\n"
      ]
    },
    {
      "cell_type": "markdown",
      "metadata": {
        "id": "GmOMUpGy-Bxn"
      },
      "source": [
        "\n",
        "With these explicit features vectors, we can perform machine learning tasks such as calculating the similarities among users or items, finding nearest neighbors, and using dot-product to estimate a rating value.\n",
        "\n",
        "The main advantage of using these explicit features is they are highly interpretable and yield very good performance as well. The main disadvantage is we need to spend quite some effort to build and store them.\n"
      ]
    },
    {
      "cell_type": "markdown",
      "metadata": {
        "id": "OAbbczzd-Bxn"
      },
      "source": [
        "![](https://cf-courses-data.s3.us.cloud-object-storage.appdomain.cloud/IBM-ML321EN-SkillsNetwork/labs/module_4/images/explicit_user_item_features.png)\n"
      ]
    },
    {
      "cell_type": "markdown",
      "metadata": {
        "id": "fsbarohC-Bxn"
      },
      "source": [
        "Is it possible to predict a rating without building explicit feature vectors beforehand?  \n",
        "\n",
        "Yes, as you may recall, the Non-negative Matrix Factorization decomposes the user-item interaction matrix into user matrix and item matrix, which contain the latent features of users and items and you can simply dot-product them to get an estimated rating.\n"
      ]
    },
    {
      "cell_type": "markdown",
      "metadata": {
        "id": "M1DDHyF9-Bxo"
      },
      "source": [
        "![](https://cf-courses-data.s3.us.cloud-object-storage.appdomain.cloud/IBM-ML321EN-SkillsNetwork/labs/module_4/images/nmf.png)\n"
      ]
    },
    {
      "cell_type": "markdown",
      "metadata": {
        "id": "EDzMhuXd-Bxo"
      },
      "source": [
        "In addition to NMF, neural networks can also be used to extract the latent user and item features?  In fact,  neural networks are very good at learning patterns from data and are widely used to extract latent features.  When training neural networks, it gradually captures and stores the features within its hidden layers as weight matrices and can be extracted to represent the original data.\n"
      ]
    },
    {
      "cell_type": "markdown",
      "metadata": {
        "id": "kVII7hOT-Bxo"
      },
      "source": [
        "In this lab, you will be training neural networks to predict course ratings while simultaneously extracting users' and items' latent features.\n"
      ]
    },
    {
      "cell_type": "markdown",
      "metadata": {
        "id": "4_5ihZxu-Bxp"
      },
      "source": [
        "## Objectives\n"
      ]
    },
    {
      "cell_type": "markdown",
      "metadata": {
        "id": "tajFP3nZ-Bxp"
      },
      "source": [
        "After completing this lab you will be able to:\n"
      ]
    },
    {
      "cell_type": "markdown",
      "metadata": {
        "id": "6-9XJKiU-Bxp"
      },
      "source": [
        "* Use `tensorflow` to train neural networks to extract the user and item latent features from the hidden's layers  \n",
        "* Predict course ratings with trained neural networks\n"
      ]
    },
    {
      "cell_type": "markdown",
      "metadata": {
        "id": "AqzMsB6c-Bxp"
      },
      "source": [
        "----\n"
      ]
    },
    {
      "cell_type": "markdown",
      "metadata": {
        "id": "hfJM1X7R-Bxp"
      },
      "source": [
        "## Prepare and setup lab environment\n"
      ]
    },
    {
      "cell_type": "markdown",
      "metadata": {
        "id": "8VYyRC3d-Bxq"
      },
      "source": [
        "Install tensorflow 2.7 if not installed before in your Python environment\n"
      ]
    },
    {
      "cell_type": "code",
      "execution_count": 1,
      "metadata": {
        "tags": [],
        "colab": {
          "base_uri": "https://localhost:8080/"
        },
        "id": "izsWEm5C-Bxq",
        "outputId": "594e4477-1d60-4393-a6c9-5b1b86ba7a87"
      },
      "outputs": [
        {
          "output_type": "stream",
          "name": "stdout",
          "text": [
            "\u001b[31mERROR: Could not find a version that satisfies the requirement tensorflow==2.7.0 (from versions: 2.8.0rc0, 2.8.0rc1, 2.8.0, 2.8.1, 2.8.2, 2.8.3, 2.8.4, 2.9.0rc0, 2.9.0rc1, 2.9.0rc2, 2.9.0, 2.9.1, 2.9.2, 2.9.3, 2.10.0rc0, 2.10.0rc1, 2.10.0rc2, 2.10.0rc3, 2.10.0, 2.10.1, 2.11.0rc0, 2.11.0rc1, 2.11.0rc2, 2.11.0, 2.11.1, 2.12.0rc0, 2.12.0rc1, 2.12.0, 2.12.1, 2.13.0rc0, 2.13.0rc1, 2.13.0rc2, 2.13.0)\u001b[0m\u001b[31m\n",
            "\u001b[0m\u001b[31mERROR: No matching distribution found for tensorflow==2.7.0\u001b[0m\u001b[31m\n",
            "\u001b[0m"
          ]
        }
      ],
      "source": [
        "!pip install tensorflow==2.7.0"
      ]
    },
    {
      "cell_type": "markdown",
      "metadata": {
        "id": "eaPCNI7b-Bxs"
      },
      "source": [
        "and import required libraries:\n"
      ]
    },
    {
      "cell_type": "code",
      "execution_count": 2,
      "metadata": {
        "tags": [],
        "id": "2C7NTRJK-Bxs"
      },
      "outputs": [],
      "source": [
        "import pandas as pd\n",
        "import tensorflow as tf\n",
        "import matplotlib.pyplot as plt\n",
        "\n",
        "from tensorflow import keras\n",
        "from tensorflow.keras import layers"
      ]
    },
    {
      "cell_type": "code",
      "execution_count": 3,
      "metadata": {
        "tags": [],
        "id": "GbwwPbZQ-Bxs"
      },
      "outputs": [],
      "source": [
        "# also set a random state\n",
        "rs = 123"
      ]
    },
    {
      "cell_type": "markdown",
      "metadata": {
        "id": "rYBdl461-Bxt"
      },
      "source": [
        "### Load and processing rating dataset\n"
      ]
    },
    {
      "cell_type": "code",
      "execution_count": 4,
      "metadata": {
        "tags": [],
        "colab": {
          "base_uri": "https://localhost:8080/",
          "height": 206
        },
        "id": "YrKas-IC-Bxt",
        "outputId": "3fd8959a-1c01-4585-88e5-615377cdbd53"
      },
      "outputs": [
        {
          "output_type": "execute_result",
          "data": {
            "text/plain": [
              "      user        item  rating\n",
              "0  1889878    CC0101EN     3.0\n",
              "1  1342067    CL0101EN     3.0\n",
              "2  1990814  ML0120ENv3     3.0\n",
              "3   380098    BD0211EN     3.0\n",
              "4   779563    DS0101EN     3.0"
            ],
            "text/html": [
              "\n",
              "\n",
              "  <div id=\"df-c25c59ec-709f-4f9e-b3c9-0ad1a2284351\">\n",
              "    <div class=\"colab-df-container\">\n",
              "      <div>\n",
              "<style scoped>\n",
              "    .dataframe tbody tr th:only-of-type {\n",
              "        vertical-align: middle;\n",
              "    }\n",
              "\n",
              "    .dataframe tbody tr th {\n",
              "        vertical-align: top;\n",
              "    }\n",
              "\n",
              "    .dataframe thead th {\n",
              "        text-align: right;\n",
              "    }\n",
              "</style>\n",
              "<table border=\"1\" class=\"dataframe\">\n",
              "  <thead>\n",
              "    <tr style=\"text-align: right;\">\n",
              "      <th></th>\n",
              "      <th>user</th>\n",
              "      <th>item</th>\n",
              "      <th>rating</th>\n",
              "    </tr>\n",
              "  </thead>\n",
              "  <tbody>\n",
              "    <tr>\n",
              "      <th>0</th>\n",
              "      <td>1889878</td>\n",
              "      <td>CC0101EN</td>\n",
              "      <td>3.0</td>\n",
              "    </tr>\n",
              "    <tr>\n",
              "      <th>1</th>\n",
              "      <td>1342067</td>\n",
              "      <td>CL0101EN</td>\n",
              "      <td>3.0</td>\n",
              "    </tr>\n",
              "    <tr>\n",
              "      <th>2</th>\n",
              "      <td>1990814</td>\n",
              "      <td>ML0120ENv3</td>\n",
              "      <td>3.0</td>\n",
              "    </tr>\n",
              "    <tr>\n",
              "      <th>3</th>\n",
              "      <td>380098</td>\n",
              "      <td>BD0211EN</td>\n",
              "      <td>3.0</td>\n",
              "    </tr>\n",
              "    <tr>\n",
              "      <th>4</th>\n",
              "      <td>779563</td>\n",
              "      <td>DS0101EN</td>\n",
              "      <td>3.0</td>\n",
              "    </tr>\n",
              "  </tbody>\n",
              "</table>\n",
              "</div>\n",
              "      <button class=\"colab-df-convert\" onclick=\"convertToInteractive('df-c25c59ec-709f-4f9e-b3c9-0ad1a2284351')\"\n",
              "              title=\"Convert this dataframe to an interactive table.\"\n",
              "              style=\"display:none;\">\n",
              "\n",
              "  <svg xmlns=\"http://www.w3.org/2000/svg\" height=\"24px\"viewBox=\"0 0 24 24\"\n",
              "       width=\"24px\">\n",
              "    <path d=\"M0 0h24v24H0V0z\" fill=\"none\"/>\n",
              "    <path d=\"M18.56 5.44l.94 2.06.94-2.06 2.06-.94-2.06-.94-.94-2.06-.94 2.06-2.06.94zm-11 1L8.5 8.5l.94-2.06 2.06-.94-2.06-.94L8.5 2.5l-.94 2.06-2.06.94zm10 10l.94 2.06.94-2.06 2.06-.94-2.06-.94-.94-2.06-.94 2.06-2.06.94z\"/><path d=\"M17.41 7.96l-1.37-1.37c-.4-.4-.92-.59-1.43-.59-.52 0-1.04.2-1.43.59L10.3 9.45l-7.72 7.72c-.78.78-.78 2.05 0 2.83L4 21.41c.39.39.9.59 1.41.59.51 0 1.02-.2 1.41-.59l7.78-7.78 2.81-2.81c.8-.78.8-2.07 0-2.86zM5.41 20L4 18.59l7.72-7.72 1.47 1.35L5.41 20z\"/>\n",
              "  </svg>\n",
              "      </button>\n",
              "\n",
              "\n",
              "\n",
              "    <div id=\"df-3a8b4c04-fd42-4fd1-9b7b-f22e6506329c\">\n",
              "      <button class=\"colab-df-quickchart\" onclick=\"quickchart('df-3a8b4c04-fd42-4fd1-9b7b-f22e6506329c')\"\n",
              "              title=\"Suggest charts.\"\n",
              "              style=\"display:none;\">\n",
              "\n",
              "<svg xmlns=\"http://www.w3.org/2000/svg\" height=\"24px\"viewBox=\"0 0 24 24\"\n",
              "     width=\"24px\">\n",
              "    <g>\n",
              "        <path d=\"M19 3H5c-1.1 0-2 .9-2 2v14c0 1.1.9 2 2 2h14c1.1 0 2-.9 2-2V5c0-1.1-.9-2-2-2zM9 17H7v-7h2v7zm4 0h-2V7h2v10zm4 0h-2v-4h2v4z\"/>\n",
              "    </g>\n",
              "</svg>\n",
              "      </button>\n",
              "    </div>\n",
              "\n",
              "<style>\n",
              "  .colab-df-quickchart {\n",
              "    background-color: #E8F0FE;\n",
              "    border: none;\n",
              "    border-radius: 50%;\n",
              "    cursor: pointer;\n",
              "    display: none;\n",
              "    fill: #1967D2;\n",
              "    height: 32px;\n",
              "    padding: 0 0 0 0;\n",
              "    width: 32px;\n",
              "  }\n",
              "\n",
              "  .colab-df-quickchart:hover {\n",
              "    background-color: #E2EBFA;\n",
              "    box-shadow: 0px 1px 2px rgba(60, 64, 67, 0.3), 0px 1px 3px 1px rgba(60, 64, 67, 0.15);\n",
              "    fill: #174EA6;\n",
              "  }\n",
              "\n",
              "  [theme=dark] .colab-df-quickchart {\n",
              "    background-color: #3B4455;\n",
              "    fill: #D2E3FC;\n",
              "  }\n",
              "\n",
              "  [theme=dark] .colab-df-quickchart:hover {\n",
              "    background-color: #434B5C;\n",
              "    box-shadow: 0px 1px 3px 1px rgba(0, 0, 0, 0.15);\n",
              "    filter: drop-shadow(0px 1px 2px rgba(0, 0, 0, 0.3));\n",
              "    fill: #FFFFFF;\n",
              "  }\n",
              "</style>\n",
              "\n",
              "    <script>\n",
              "      async function quickchart(key) {\n",
              "        const containerElement = document.querySelector('#' + key);\n",
              "        const charts = await google.colab.kernel.invokeFunction(\n",
              "            'suggestCharts', [key], {});\n",
              "      }\n",
              "    </script>\n",
              "\n",
              "      <script>\n",
              "\n",
              "function displayQuickchartButton(domScope) {\n",
              "  let quickchartButtonEl =\n",
              "    domScope.querySelector('#df-3a8b4c04-fd42-4fd1-9b7b-f22e6506329c button.colab-df-quickchart');\n",
              "  quickchartButtonEl.style.display =\n",
              "    google.colab.kernel.accessAllowed ? 'block' : 'none';\n",
              "}\n",
              "\n",
              "        displayQuickchartButton(document);\n",
              "      </script>\n",
              "      <style>\n",
              "    .colab-df-container {\n",
              "      display:flex;\n",
              "      flex-wrap:wrap;\n",
              "      gap: 12px;\n",
              "    }\n",
              "\n",
              "    .colab-df-convert {\n",
              "      background-color: #E8F0FE;\n",
              "      border: none;\n",
              "      border-radius: 50%;\n",
              "      cursor: pointer;\n",
              "      display: none;\n",
              "      fill: #1967D2;\n",
              "      height: 32px;\n",
              "      padding: 0 0 0 0;\n",
              "      width: 32px;\n",
              "    }\n",
              "\n",
              "    .colab-df-convert:hover {\n",
              "      background-color: #E2EBFA;\n",
              "      box-shadow: 0px 1px 2px rgba(60, 64, 67, 0.3), 0px 1px 3px 1px rgba(60, 64, 67, 0.15);\n",
              "      fill: #174EA6;\n",
              "    }\n",
              "\n",
              "    [theme=dark] .colab-df-convert {\n",
              "      background-color: #3B4455;\n",
              "      fill: #D2E3FC;\n",
              "    }\n",
              "\n",
              "    [theme=dark] .colab-df-convert:hover {\n",
              "      background-color: #434B5C;\n",
              "      box-shadow: 0px 1px 3px 1px rgba(0, 0, 0, 0.15);\n",
              "      filter: drop-shadow(0px 1px 2px rgba(0, 0, 0, 0.3));\n",
              "      fill: #FFFFFF;\n",
              "    }\n",
              "  </style>\n",
              "\n",
              "      <script>\n",
              "        const buttonEl =\n",
              "          document.querySelector('#df-c25c59ec-709f-4f9e-b3c9-0ad1a2284351 button.colab-df-convert');\n",
              "        buttonEl.style.display =\n",
              "          google.colab.kernel.accessAllowed ? 'block' : 'none';\n",
              "\n",
              "        async function convertToInteractive(key) {\n",
              "          const element = document.querySelector('#df-c25c59ec-709f-4f9e-b3c9-0ad1a2284351');\n",
              "          const dataTable =\n",
              "            await google.colab.kernel.invokeFunction('convertToInteractive',\n",
              "                                                     [key], {});\n",
              "          if (!dataTable) return;\n",
              "\n",
              "          const docLinkHtml = 'Like what you see? Visit the ' +\n",
              "            '<a target=\"_blank\" href=https://colab.research.google.com/notebooks/data_table.ipynb>data table notebook</a>'\n",
              "            + ' to learn more about interactive tables.';\n",
              "          element.innerHTML = '';\n",
              "          dataTable['output_type'] = 'display_data';\n",
              "          await google.colab.output.renderOutput(dataTable, element);\n",
              "          const docLink = document.createElement('div');\n",
              "          docLink.innerHTML = docLinkHtml;\n",
              "          element.appendChild(docLink);\n",
              "        }\n",
              "      </script>\n",
              "    </div>\n",
              "  </div>\n"
            ]
          },
          "metadata": {},
          "execution_count": 4
        }
      ],
      "source": [
        "rating_url = \"https://cf-courses-data.s3.us.cloud-object-storage.appdomain.cloud/IBM-ML321EN-SkillsNetwork/labs/datasets/ratings.csv\"\n",
        "rating_df = pd.read_csv(rating_url)\n",
        "rating_df.head()"
      ]
    },
    {
      "cell_type": "markdown",
      "metadata": {
        "id": "Y_9dDEFX-Bxt"
      },
      "source": [
        "This is the same rating dataset we have been using in previous lab, which contains the three main columns: `user`, `item`, and `rating`.\n"
      ]
    },
    {
      "cell_type": "markdown",
      "metadata": {
        "id": "hSmpD6_Z-Bxt"
      },
      "source": [
        "Next, let's figure out how many unique users and items, their total numbers will determine the sizes of one-hot encoding vectors.\n"
      ]
    },
    {
      "cell_type": "code",
      "execution_count": 5,
      "metadata": {
        "tags": [],
        "colab": {
          "base_uri": "https://localhost:8080/"
        },
        "id": "L7-_toAF-Bxu",
        "outputId": "b82ffb95-0b0d-47a9-de26-b2213acec18f"
      },
      "outputs": [
        {
          "output_type": "stream",
          "name": "stdout",
          "text": [
            "There are total `33901` of users and `126` items\n"
          ]
        }
      ],
      "source": [
        "num_users = len(rating_df['user'].unique())\n",
        "num_items = len(rating_df['item'].unique())\n",
        "print(f\"There are total `{num_users}` of users and `{num_items}` items\")"
      ]
    },
    {
      "cell_type": "markdown",
      "metadata": {
        "id": "QHqg7VTg-Bxu"
      },
      "source": [
        "It means our each user can be represented as a `33901 x 1` one-hot vector and each item can be represented as `126 x 1` one-hot vector.\n"
      ]
    },
    {
      "cell_type": "markdown",
      "metadata": {
        "id": "opleKAYL-Bxu"
      },
      "source": [
        "The goal is to create a neural network structure that can take the user and item one-hot vectors as inputs and outputs a rating estimation or the probability of interaction (such as the probability of completing a course).\n",
        "\n",
        "While training and updating the weights in the neural network, its hidden layers should be able to capture the pattern or features for each user and item. Based on this idea, we can design a simple neural network architecture like the following:\n"
      ]
    },
    {
      "cell_type": "markdown",
      "metadata": {
        "id": "R9bVNuuk-Bxu"
      },
      "source": [
        "![](https://cf-courses-data.s3.us.cloud-object-storage.appdomain.cloud/IBM-ML321EN-SkillsNetwork/labs/module_4/images/embedding_feature_vector.png)\n"
      ]
    },
    {
      "cell_type": "markdown",
      "metadata": {
        "id": "bXY3FuZD-Bxu"
      },
      "source": [
        "The network inputs are two one-hot encoding vectors, the blue one is for the user and the green one is for the item. Then on top of them, we added two embedding layers. Here embedding means embedding the one-hot encoding vector into a latent feature space. The embedding layer is a fully-connected layer that outputs the embedding feature vectors. For example, the user embedding layer takes `33901 x 1` one-hot vector as input and outputs a `16 x 1` embedding vector.\n"
      ]
    },
    {
      "cell_type": "markdown",
      "metadata": {
        "id": "yNpSglKZ-Bxv"
      },
      "source": [
        "The embedding layer outputs two embedding vectors, which are similar to Non-negative matrix factorization. Then we could simply dot the product the user and item embedding vector to output a rating estimation.\n"
      ]
    },
    {
      "cell_type": "markdown",
      "metadata": {
        "id": "5Vaa8Vrp-Bxv"
      },
      "source": [
        "#### Implementing the recommender neural network using tensorflow\n"
      ]
    },
    {
      "cell_type": "markdown",
      "metadata": {
        "id": "uwEeuxxr-Bxv"
      },
      "source": [
        "This network architecture could be defined and implemented as a sub-class inheriting the `tensorflow.keras.Model` super class, let's call it `RecommenderNet()`.\n"
      ]
    },
    {
      "cell_type": "code",
      "execution_count": 6,
      "metadata": {
        "tags": [],
        "id": "ucBEPXzm-Bxv"
      },
      "outputs": [],
      "source": [
        "class RecommenderNet(keras.Model):\n",
        "\n",
        "    def __init__(self, num_users, num_items, embedding_size=16, **kwargs):\n",
        "        \"\"\"\n",
        "           Constructor\n",
        "           :param int num_users: number of users\n",
        "           :param int num_items: number of items\n",
        "           :param int embedding_size: the size of embedding vector\n",
        "        \"\"\"\n",
        "        super(RecommenderNet, self).__init__(**kwargs)\n",
        "        self.num_users = num_users\n",
        "        self.num_items = num_items\n",
        "        self.embedding_size = embedding_size\n",
        "\n",
        "        # Define a user_embedding vector\n",
        "        # Input dimension is the num_users\n",
        "        # Output dimension is the embedding size\n",
        "        self.user_embedding_layer = layers.Embedding(\n",
        "            input_dim=num_users,\n",
        "            output_dim=embedding_size,\n",
        "            name='user_embedding_layer',\n",
        "            embeddings_initializer=\"he_normal\",\n",
        "            embeddings_regularizer=keras.regularizers.l2(1e-6),\n",
        "        )\n",
        "        # Define a user bias layer\n",
        "        self.user_bias = layers.Embedding(\n",
        "            input_dim=num_users,\n",
        "            output_dim=1,\n",
        "            name=\"user_bias\")\n",
        "\n",
        "        # Define an item_embedding vector\n",
        "        # Input dimension is the num_items\n",
        "        # Output dimension is the embedding size\n",
        "        self.item_embedding_layer = layers.Embedding(\n",
        "            input_dim=num_items,\n",
        "            output_dim=embedding_size,\n",
        "            name='item_embedding_layer',\n",
        "            embeddings_initializer=\"he_normal\",\n",
        "            embeddings_regularizer=keras.regularizers.l2(1e-6),\n",
        "        )\n",
        "        # Define an item bias layer\n",
        "        self.item_bias = layers.Embedding(\n",
        "            input_dim=num_items,\n",
        "            output_dim=1,\n",
        "            name=\"item_bias\")\n",
        "\n",
        "    def call(self, inputs):\n",
        "        \"\"\"\n",
        "           method to be called during model fitting\n",
        "\n",
        "           :param inputs: user and item one-hot vectors\n",
        "        \"\"\"\n",
        "        # Compute the user embedding vector\n",
        "        user_vector = self.user_embedding_layer(inputs[:, 0])\n",
        "        user_bias = self.user_bias(inputs[:, 0])\n",
        "        item_vector = self.item_embedding_layer(inputs[:, 1])\n",
        "        item_bias = self.item_bias(inputs[:, 1])\n",
        "        dot_user_item = tf.tensordot(user_vector, item_vector, 2)\n",
        "        # Add all the components (including bias)\n",
        "        x = dot_user_item + user_bias + item_bias\n",
        "        # Sigmoid output layer to output the probability\n",
        "        return tf.nn.relu(x)"
      ]
    },
    {
      "cell_type": "markdown",
      "metadata": {
        "id": "rX4odqNk-Bxw"
      },
      "source": [
        "### TASK: Train and evaluate the RecommenderNet()\n"
      ]
    },
    {
      "cell_type": "markdown",
      "metadata": {
        "id": "3Q6I7MtJ-Bxw"
      },
      "source": [
        "Now it's time to train and evaluate the defined `RecommenderNet()`. First, we need to process the original rating dataset a little bit by converting the actual user ids and item ids into integer indices for `tensorflow` to creating the one-hot encoding vectors.\n"
      ]
    },
    {
      "cell_type": "code",
      "execution_count": 7,
      "metadata": {
        "tags": [],
        "id": "5vDb_HMK-Bxw"
      },
      "outputs": [],
      "source": [
        "def process_dataset(raw_data):\n",
        "\n",
        "    encoded_data = raw_data.copy()\n",
        "\n",
        "    # Mapping user ids to indices\n",
        "    user_list = encoded_data[\"user\"].unique().tolist()\n",
        "    user_id2idx_dict = {x: i for i, x in enumerate(user_list)}\n",
        "    user_idx2id_dict = {i: x for i, x in enumerate(user_list)}\n",
        "\n",
        "    # Mapping course ids to indices\n",
        "    course_list = encoded_data[\"item\"].unique().tolist()\n",
        "    course_id2idx_dict = {x: i for i, x in enumerate(course_list)}\n",
        "    course_idx2id_dict = {i: x for i, x in enumerate(course_list)}\n",
        "\n",
        "    # Convert original user ids to idx\n",
        "    encoded_data[\"user\"] = encoded_data[\"user\"].map(user_id2idx_dict)\n",
        "    # Convert original course ids to idx\n",
        "    encoded_data[\"item\"] = encoded_data[\"item\"].map(course_id2idx_dict)\n",
        "    # Convert rating to int\n",
        "    encoded_data[\"rating\"] = encoded_data[\"rating\"].values.astype(\"int\")\n",
        "\n",
        "    return encoded_data, user_idx2id_dict, course_idx2id_dict"
      ]
    },
    {
      "cell_type": "code",
      "execution_count": 8,
      "metadata": {
        "tags": [],
        "id": "m9emrZoG-Bxw"
      },
      "outputs": [],
      "source": [
        "encoded_data, user_idx2id_dict, course_idx2id_dict = process_dataset(rating_df)"
      ]
    },
    {
      "cell_type": "code",
      "execution_count": 9,
      "metadata": {
        "tags": [],
        "colab": {
          "base_uri": "https://localhost:8080/",
          "height": 206
        },
        "id": "Wt4rlf5r-Bxx",
        "outputId": "ed02bdf7-40a0-446a-f016-c49cf800814f"
      },
      "outputs": [
        {
          "output_type": "execute_result",
          "data": {
            "text/plain": [
              "   user  item  rating\n",
              "0     0     0       3\n",
              "1     1     1       3\n",
              "2     2     2       3\n",
              "3     3     3       3\n",
              "4     4     4       3"
            ],
            "text/html": [
              "\n",
              "\n",
              "  <div id=\"df-c9fddca5-781e-4295-91ae-18bb0dd67175\">\n",
              "    <div class=\"colab-df-container\">\n",
              "      <div>\n",
              "<style scoped>\n",
              "    .dataframe tbody tr th:only-of-type {\n",
              "        vertical-align: middle;\n",
              "    }\n",
              "\n",
              "    .dataframe tbody tr th {\n",
              "        vertical-align: top;\n",
              "    }\n",
              "\n",
              "    .dataframe thead th {\n",
              "        text-align: right;\n",
              "    }\n",
              "</style>\n",
              "<table border=\"1\" class=\"dataframe\">\n",
              "  <thead>\n",
              "    <tr style=\"text-align: right;\">\n",
              "      <th></th>\n",
              "      <th>user</th>\n",
              "      <th>item</th>\n",
              "      <th>rating</th>\n",
              "    </tr>\n",
              "  </thead>\n",
              "  <tbody>\n",
              "    <tr>\n",
              "      <th>0</th>\n",
              "      <td>0</td>\n",
              "      <td>0</td>\n",
              "      <td>3</td>\n",
              "    </tr>\n",
              "    <tr>\n",
              "      <th>1</th>\n",
              "      <td>1</td>\n",
              "      <td>1</td>\n",
              "      <td>3</td>\n",
              "    </tr>\n",
              "    <tr>\n",
              "      <th>2</th>\n",
              "      <td>2</td>\n",
              "      <td>2</td>\n",
              "      <td>3</td>\n",
              "    </tr>\n",
              "    <tr>\n",
              "      <th>3</th>\n",
              "      <td>3</td>\n",
              "      <td>3</td>\n",
              "      <td>3</td>\n",
              "    </tr>\n",
              "    <tr>\n",
              "      <th>4</th>\n",
              "      <td>4</td>\n",
              "      <td>4</td>\n",
              "      <td>3</td>\n",
              "    </tr>\n",
              "  </tbody>\n",
              "</table>\n",
              "</div>\n",
              "      <button class=\"colab-df-convert\" onclick=\"convertToInteractive('df-c9fddca5-781e-4295-91ae-18bb0dd67175')\"\n",
              "              title=\"Convert this dataframe to an interactive table.\"\n",
              "              style=\"display:none;\">\n",
              "\n",
              "  <svg xmlns=\"http://www.w3.org/2000/svg\" height=\"24px\"viewBox=\"0 0 24 24\"\n",
              "       width=\"24px\">\n",
              "    <path d=\"M0 0h24v24H0V0z\" fill=\"none\"/>\n",
              "    <path d=\"M18.56 5.44l.94 2.06.94-2.06 2.06-.94-2.06-.94-.94-2.06-.94 2.06-2.06.94zm-11 1L8.5 8.5l.94-2.06 2.06-.94-2.06-.94L8.5 2.5l-.94 2.06-2.06.94zm10 10l.94 2.06.94-2.06 2.06-.94-2.06-.94-.94-2.06-.94 2.06-2.06.94z\"/><path d=\"M17.41 7.96l-1.37-1.37c-.4-.4-.92-.59-1.43-.59-.52 0-1.04.2-1.43.59L10.3 9.45l-7.72 7.72c-.78.78-.78 2.05 0 2.83L4 21.41c.39.39.9.59 1.41.59.51 0 1.02-.2 1.41-.59l7.78-7.78 2.81-2.81c.8-.78.8-2.07 0-2.86zM5.41 20L4 18.59l7.72-7.72 1.47 1.35L5.41 20z\"/>\n",
              "  </svg>\n",
              "      </button>\n",
              "\n",
              "\n",
              "\n",
              "    <div id=\"df-1ae659e4-fce7-43a2-8525-91fb34d9d5de\">\n",
              "      <button class=\"colab-df-quickchart\" onclick=\"quickchart('df-1ae659e4-fce7-43a2-8525-91fb34d9d5de')\"\n",
              "              title=\"Suggest charts.\"\n",
              "              style=\"display:none;\">\n",
              "\n",
              "<svg xmlns=\"http://www.w3.org/2000/svg\" height=\"24px\"viewBox=\"0 0 24 24\"\n",
              "     width=\"24px\">\n",
              "    <g>\n",
              "        <path d=\"M19 3H5c-1.1 0-2 .9-2 2v14c0 1.1.9 2 2 2h14c1.1 0 2-.9 2-2V5c0-1.1-.9-2-2-2zM9 17H7v-7h2v7zm4 0h-2V7h2v10zm4 0h-2v-4h2v4z\"/>\n",
              "    </g>\n",
              "</svg>\n",
              "      </button>\n",
              "    </div>\n",
              "\n",
              "<style>\n",
              "  .colab-df-quickchart {\n",
              "    background-color: #E8F0FE;\n",
              "    border: none;\n",
              "    border-radius: 50%;\n",
              "    cursor: pointer;\n",
              "    display: none;\n",
              "    fill: #1967D2;\n",
              "    height: 32px;\n",
              "    padding: 0 0 0 0;\n",
              "    width: 32px;\n",
              "  }\n",
              "\n",
              "  .colab-df-quickchart:hover {\n",
              "    background-color: #E2EBFA;\n",
              "    box-shadow: 0px 1px 2px rgba(60, 64, 67, 0.3), 0px 1px 3px 1px rgba(60, 64, 67, 0.15);\n",
              "    fill: #174EA6;\n",
              "  }\n",
              "\n",
              "  [theme=dark] .colab-df-quickchart {\n",
              "    background-color: #3B4455;\n",
              "    fill: #D2E3FC;\n",
              "  }\n",
              "\n",
              "  [theme=dark] .colab-df-quickchart:hover {\n",
              "    background-color: #434B5C;\n",
              "    box-shadow: 0px 1px 3px 1px rgba(0, 0, 0, 0.15);\n",
              "    filter: drop-shadow(0px 1px 2px rgba(0, 0, 0, 0.3));\n",
              "    fill: #FFFFFF;\n",
              "  }\n",
              "</style>\n",
              "\n",
              "    <script>\n",
              "      async function quickchart(key) {\n",
              "        const containerElement = document.querySelector('#' + key);\n",
              "        const charts = await google.colab.kernel.invokeFunction(\n",
              "            'suggestCharts', [key], {});\n",
              "      }\n",
              "    </script>\n",
              "\n",
              "      <script>\n",
              "\n",
              "function displayQuickchartButton(domScope) {\n",
              "  let quickchartButtonEl =\n",
              "    domScope.querySelector('#df-1ae659e4-fce7-43a2-8525-91fb34d9d5de button.colab-df-quickchart');\n",
              "  quickchartButtonEl.style.display =\n",
              "    google.colab.kernel.accessAllowed ? 'block' : 'none';\n",
              "}\n",
              "\n",
              "        displayQuickchartButton(document);\n",
              "      </script>\n",
              "      <style>\n",
              "    .colab-df-container {\n",
              "      display:flex;\n",
              "      flex-wrap:wrap;\n",
              "      gap: 12px;\n",
              "    }\n",
              "\n",
              "    .colab-df-convert {\n",
              "      background-color: #E8F0FE;\n",
              "      border: none;\n",
              "      border-radius: 50%;\n",
              "      cursor: pointer;\n",
              "      display: none;\n",
              "      fill: #1967D2;\n",
              "      height: 32px;\n",
              "      padding: 0 0 0 0;\n",
              "      width: 32px;\n",
              "    }\n",
              "\n",
              "    .colab-df-convert:hover {\n",
              "      background-color: #E2EBFA;\n",
              "      box-shadow: 0px 1px 2px rgba(60, 64, 67, 0.3), 0px 1px 3px 1px rgba(60, 64, 67, 0.15);\n",
              "      fill: #174EA6;\n",
              "    }\n",
              "\n",
              "    [theme=dark] .colab-df-convert {\n",
              "      background-color: #3B4455;\n",
              "      fill: #D2E3FC;\n",
              "    }\n",
              "\n",
              "    [theme=dark] .colab-df-convert:hover {\n",
              "      background-color: #434B5C;\n",
              "      box-shadow: 0px 1px 3px 1px rgba(0, 0, 0, 0.15);\n",
              "      filter: drop-shadow(0px 1px 2px rgba(0, 0, 0, 0.3));\n",
              "      fill: #FFFFFF;\n",
              "    }\n",
              "  </style>\n",
              "\n",
              "      <script>\n",
              "        const buttonEl =\n",
              "          document.querySelector('#df-c9fddca5-781e-4295-91ae-18bb0dd67175 button.colab-df-convert');\n",
              "        buttonEl.style.display =\n",
              "          google.colab.kernel.accessAllowed ? 'block' : 'none';\n",
              "\n",
              "        async function convertToInteractive(key) {\n",
              "          const element = document.querySelector('#df-c9fddca5-781e-4295-91ae-18bb0dd67175');\n",
              "          const dataTable =\n",
              "            await google.colab.kernel.invokeFunction('convertToInteractive',\n",
              "                                                     [key], {});\n",
              "          if (!dataTable) return;\n",
              "\n",
              "          const docLinkHtml = 'Like what you see? Visit the ' +\n",
              "            '<a target=\"_blank\" href=https://colab.research.google.com/notebooks/data_table.ipynb>data table notebook</a>'\n",
              "            + ' to learn more about interactive tables.';\n",
              "          element.innerHTML = '';\n",
              "          dataTable['output_type'] = 'display_data';\n",
              "          await google.colab.output.renderOutput(dataTable, element);\n",
              "          const docLink = document.createElement('div');\n",
              "          docLink.innerHTML = docLinkHtml;\n",
              "          element.appendChild(docLink);\n",
              "        }\n",
              "      </script>\n",
              "    </div>\n",
              "  </div>\n"
            ]
          },
          "metadata": {},
          "execution_count": 9
        }
      ],
      "source": [
        "encoded_data.head()"
      ]
    },
    {
      "cell_type": "markdown",
      "metadata": {
        "id": "bIKs358z-Bxx"
      },
      "source": [
        "Then we can split the encoded dataset into training and testing datasets.\n"
      ]
    },
    {
      "cell_type": "code",
      "execution_count": 10,
      "metadata": {
        "tags": [],
        "id": "ygRgBq29-Bx-"
      },
      "outputs": [],
      "source": [
        "def generate_train_test_datasets(dataset, scale=True):\n",
        "\n",
        "    min_rating = min(dataset[\"rating\"])\n",
        "    max_rating = max(dataset[\"rating\"])\n",
        "\n",
        "    dataset = dataset.sample(frac=1, random_state=42)\n",
        "    x = dataset[[\"user\", \"item\"]].values\n",
        "    if scale:\n",
        "        y = dataset[\"rating\"].apply(lambda x: (x - min_rating) / (max_rating - min_rating)).values\n",
        "    else:\n",
        "        y = dataset[\"rating\"].values\n",
        "\n",
        "    # Assuming training on 80% of the data and validating on 10%, and testing 10%\n",
        "    train_indices = int(0.8 * dataset.shape[0])\n",
        "    test_indices = int(0.9 * dataset.shape[0])\n",
        "\n",
        "    x_train, x_val, x_test, y_train, y_val, y_test = (\n",
        "        x[:train_indices],\n",
        "        x[train_indices:test_indices],\n",
        "        x[test_indices:],\n",
        "        y[:train_indices],\n",
        "        y[train_indices:test_indices],\n",
        "        y[test_indices:],\n",
        "    )\n",
        "    return x_train, x_val, x_test, y_train, y_val, y_test"
      ]
    },
    {
      "cell_type": "code",
      "execution_count": 11,
      "metadata": {
        "tags": [],
        "id": "tz7hT8vO-Bx-"
      },
      "outputs": [],
      "source": [
        "x_train, x_val, x_test, y_train, y_val, y_test = generate_train_test_datasets(encoded_data)"
      ]
    },
    {
      "cell_type": "markdown",
      "metadata": {
        "id": "YNLDNzoL-Bx_"
      },
      "source": [
        "If we take a look at the training input data, it is simply just a list of user indices and item indices, which is a dense format of one-hot encoding vectors.\n"
      ]
    },
    {
      "cell_type": "code",
      "execution_count": 12,
      "metadata": {
        "tags": [],
        "colab": {
          "base_uri": "https://localhost:8080/"
        },
        "id": "Q2EJj71O-Bx_",
        "outputId": "cc346e4d-3565-4a8a-8d0c-b13e0916992a"
      },
      "outputs": [
        {
          "output_type": "execute_result",
          "data": {
            "text/plain": [
              "array([ 8376,  7659, 10717, ...,  3409, 28761,  4973])"
            ]
          },
          "metadata": {},
          "execution_count": 12
        }
      ],
      "source": [
        "user_indices = x_train[:, 0]\n",
        "user_indices"
      ]
    },
    {
      "cell_type": "code",
      "execution_count": 13,
      "metadata": {
        "tags": [],
        "colab": {
          "base_uri": "https://localhost:8080/"
        },
        "id": "t0Nswgcf-Bx_",
        "outputId": "89e5e465-1056-444d-e081-a2cffdcd92ca"
      },
      "outputs": [
        {
          "output_type": "execute_result",
          "data": {
            "text/plain": [
              "array([12, 29,  3, ..., 18, 19, 17])"
            ]
          },
          "metadata": {},
          "execution_count": 13
        }
      ],
      "source": [
        "item_indices = x_train[:, 1]\n",
        "item_indices"
      ]
    },
    {
      "cell_type": "markdown",
      "metadata": {
        "id": "jF1PvN9X-Bx_"
      },
      "source": [
        "and training output labels are a list of 0s and 1s indicating if the user has completed a course or not.\n"
      ]
    },
    {
      "cell_type": "code",
      "execution_count": 14,
      "metadata": {
        "tags": [],
        "colab": {
          "base_uri": "https://localhost:8080/"
        },
        "id": "_38pmhkh-ByA",
        "outputId": "42eebc9a-5cbf-429f-85b2-b6f5b621adce"
      },
      "outputs": [
        {
          "output_type": "execute_result",
          "data": {
            "text/plain": [
              "array([1., 1., 1., ..., 1., 0., 1.])"
            ]
          },
          "metadata": {},
          "execution_count": 14
        }
      ],
      "source": [
        "y_train"
      ]
    },
    {
      "cell_type": "markdown",
      "metadata": {
        "id": "-6lnj64d-ByA"
      },
      "source": [
        "Then we can choose a small embedding vector size to be 16 and create a `RecommenderNet()` model to be trained\n"
      ]
    },
    {
      "cell_type": "code",
      "execution_count": 15,
      "metadata": {
        "tags": [],
        "id": "ksLE3Yqz-ByA"
      },
      "outputs": [],
      "source": [
        "embedding_size = 16\n",
        "model = RecommenderNet(num_users, num_items, embedding_size)"
      ]
    },
    {
      "cell_type": "markdown",
      "metadata": {
        "id": "L3j0Soq1-ByA"
      },
      "source": [
        "_TODO: Train the RecommenderNet() model_\n"
      ]
    },
    {
      "cell_type": "code",
      "execution_count": 17,
      "metadata": {
        "tags": [],
        "colab": {
          "base_uri": "https://localhost:8080/",
          "height": 809
        },
        "id": "FQ3NoGu--ByA",
        "outputId": "2f3da6ec-5ebb-4b50-edde-df703060c508"
      },
      "outputs": [
        {
          "output_type": "stream",
          "name": "stdout",
          "text": [
            "Epoch 1/10\n",
            "2917/2917 [==============================] - 43s 14ms/step - loss: 0.1351 - mean_squared_error: 0.1348 - val_loss: 0.0454 - val_mean_squared_error: 0.0448\n",
            "Epoch 2/10\n",
            "2917/2917 [==============================] - 37s 13ms/step - loss: 0.0398 - mean_squared_error: 0.0392 - val_loss: 0.0371 - val_mean_squared_error: 0.0363\n",
            "Epoch 3/10\n",
            "2917/2917 [==============================] - 36s 12ms/step - loss: 0.0280 - mean_squared_error: 0.0271 - val_loss: 0.0278 - val_mean_squared_error: 0.0268\n",
            "Epoch 4/10\n",
            "2917/2917 [==============================] - 37s 13ms/step - loss: 0.0217 - mean_squared_error: 0.0206 - val_loss: 0.0236 - val_mean_squared_error: 0.0224\n",
            "Epoch 5/10\n",
            "2917/2917 [==============================] - 35s 12ms/step - loss: 0.0181 - mean_squared_error: 0.0168 - val_loss: 0.0213 - val_mean_squared_error: 0.0199\n",
            "Epoch 6/10\n",
            "2917/2917 [==============================] - 36s 12ms/step - loss: 0.0154 - mean_squared_error: 0.0139 - val_loss: 0.0201 - val_mean_squared_error: 0.0186\n",
            "Epoch 7/10\n",
            "2917/2917 [==============================] - 35s 12ms/step - loss: 0.0135 - mean_squared_error: 0.0119 - val_loss: 0.0186 - val_mean_squared_error: 0.0171\n",
            "Epoch 8/10\n",
            "2917/2917 [==============================] - 37s 13ms/step - loss: 0.0120 - mean_squared_error: 0.0104 - val_loss: 0.0183 - val_mean_squared_error: 0.0167\n",
            "Epoch 9/10\n",
            "2917/2917 [==============================] - 35s 12ms/step - loss: 0.0107 - mean_squared_error: 0.0090 - val_loss: 0.0173 - val_mean_squared_error: 0.0156\n",
            "Epoch 10/10\n",
            "2917/2917 [==============================] - 35s 12ms/step - loss: 0.0097 - mean_squared_error: 0.0080 - val_loss: 0.0165 - val_mean_squared_error: 0.0148\n"
          ]
        },
        {
          "output_type": "display_data",
          "data": {
            "text/plain": [
              "<Figure size 640x480 with 1 Axes>"
            ],
            "image/png": "[encoded data removed]"
          },
          "metadata": {}
        }
      ],
      "source": [
        "## WRITE YOUR CODE HERE:\n",
        "\n",
        "## - call model.compile() method to set up the loss and optimizer and metrics for the model training, you may use\n",
        "##  - - tf.keras.losses.MeanSquaredError() as training loss\n",
        "##  - - keras.optimizers.Adam() as optimizer\n",
        "##  - - tf.keras.metrics.RootMeanSquaredError() as metric\n",
        "model.compile(optimizer=\"nadam\", loss=\"mean_squared_error\", metrics=[\"mean_squared_error\"])\n",
        "## - call model.fit() to train the model\n",
        "history=model.fit(x=x_train, y=y_train,batch_size=64, epochs=10,validation_data=(x_val, y_val),verbose = 1)\n",
        "## - optionally call model.save() to save the model\n",
        "\n",
        "## - plot the train and validation loss\n",
        "from matplotlib import pyplot as plt\n",
        "plt.plot(history.history[\"val_loss\"])\n",
        "plt.plot(history.history[\"loss\"])\n",
        "plt.show()"
      ]
    },
    {
      "cell_type": "markdown",
      "metadata": {
        "id": "_A5NxT7H-ByB"
      },
      "source": [
        "<details>\n",
        "    <summary>Click here for Hints</summary>\n",
        "    \n",
        "When you are fitting a model, dont forget to specify the parameters: `x=x_train, y=y_train`, as well as `batch_size=64`, number of `epochs=10` and of course `validation_data=(x_val, y_val)` you can also define `verbose = 1` which will show you an animated progress for the training progress for each epoch.\n",
        "    \n",
        "* You can set  `history = model.fit()` which will give you a \"loss\" dataframe which will be very useful for ploting the train and validation loss. To plot it, use plt.plot() with `history.history[\"loss\"]` as its parameter for train loss and `history.history[\"val_loss\"]` for validation loss.\n"
      ]
    },
    {
      "cell_type": "markdown",
      "metadata": {
        "id": "hNCupPN--ByB"
      },
      "source": [
        "_TODO:_ Evaluate the trained model\n"
      ]
    },
    {
      "cell_type": "code",
      "execution_count": 18,
      "metadata": {
        "tags": [],
        "colab": {
          "base_uri": "https://localhost:8080/"
        },
        "id": "eCzQ1pAl-ByB",
        "outputId": "03a512d8-b9c3-4960-89bf-2b4b57d41355"
      },
      "outputs": [
        {
          "output_type": "stream",
          "name": "stdout",
          "text": [
            "730/730 [==============================] - 2s 2ms/step - loss: 0.0159 - mean_squared_error: 0.0142\n"
          ]
        },
        {
          "output_type": "execute_result",
          "data": {
            "text/plain": [
              "[0.01594545878469944, 0.014219260774552822]"
            ]
          },
          "metadata": {},
          "execution_count": 18
        }
      ],
      "source": [
        "### WRITE YOUR CODE HERE\n",
        "\n",
        "### - call model.evaluate() to evaluate the model\n",
        "model.evaluate(x_test, y_test)"
      ]
    },
    {
      "cell_type": "markdown",
      "metadata": {
        "id": "XG5uhKo2-ByB"
      },
      "source": [
        "<details>\n",
        "    <summary>Click here for Hints</summary>\n",
        "    \n",
        "Use `x_test, y_test` as parameters for `model.evaluate()`\n"
      ]
    },
    {
      "cell_type": "markdown",
      "metadata": {
        "id": "af9TTxCk-ByB"
      },
      "source": [
        "### Extract the user and item embedding vectors as latent feature vectors\n"
      ]
    },
    {
      "cell_type": "markdown",
      "metadata": {
        "id": "vfef9Uyr-ByB"
      },
      "source": [
        "Now, we have trained the `RecommenderNet()` model and it can predict the ratings with relatively small RMSE.\n",
        "\n",
        "If we print the trained model then we can see its layers and their parameters/weights.\n"
      ]
    },
    {
      "cell_type": "code",
      "execution_count": 19,
      "metadata": {
        "tags": [],
        "colab": {
          "base_uri": "https://localhost:8080/"
        },
        "id": "ziQeOMra-ByC",
        "outputId": "60d9e251-a651-41ba-8f16-12e76139cc1c"
      },
      "outputs": [
        {
          "output_type": "stream",
          "name": "stdout",
          "text": [
            "Model: \"recommender_net\"\n",
            "_________________________________________________________________\n",
            " Layer (type)                Output Shape              Param #   \n",
            "=================================================================\n",
            " user_embedding_layer (Embed  multiple                 542416    \n",
            " ding)                                                           \n",
            "                                                                 \n",
            " user_bias (Embedding)       multiple                  33901     \n",
            "                                                                 \n",
            " item_embedding_layer (Embed  multiple                 2016      \n",
            " ding)                                                           \n",
            "                                                                 \n",
            " item_bias (Embedding)       multiple                  126       \n",
            "                                                                 \n",
            "=================================================================\n",
            "Total params: 578,459\n",
            "Trainable params: 578,459\n",
            "Non-trainable params: 0\n",
            "_________________________________________________________________\n"
          ]
        }
      ],
      "source": [
        "model.summary()"
      ]
    },
    {
      "cell_type": "markdown",
      "metadata": {
        "id": "I0gV_7cA-ByC"
      },
      "source": [
        "In the `RecommenderNet`, the `user_embedding_layer` and `item_embedding_layer` layers contain the trained weights. Essentially, they are the latent user and item features learned by `RecommenderNet` and will be used to predict the interaction. As such, while training the neural network to predict rating, the embedding layers are simultaneously trained to extract the embedding user and item features.\n"
      ]
    },
    {
      "cell_type": "markdown",
      "metadata": {
        "id": "t8dnXWlC-ByC"
      },
      "source": [
        "We can easily get the actual weights using `model.get_layer().get_weights()` methods\n"
      ]
    },
    {
      "cell_type": "code",
      "execution_count": 20,
      "metadata": {
        "tags": [],
        "colab": {
          "base_uri": "https://localhost:8080/"
        },
        "id": "dZncTWWH-ByC",
        "outputId": "e0ee31bf-2a90-4cf0-f58a-a9297633cc8e"
      },
      "outputs": [
        {
          "output_type": "stream",
          "name": "stdout",
          "text": [
            "User features shape: (33901, 16)\n"
          ]
        }
      ],
      "source": [
        "# User features\n",
        "user_latent_features = model.get_layer('user_embedding_layer').get_weights()[0]\n",
        "print(f\"User features shape: {user_latent_features.shape}\")"
      ]
    },
    {
      "cell_type": "code",
      "execution_count": 21,
      "metadata": {
        "tags": [],
        "colab": {
          "base_uri": "https://localhost:8080/"
        },
        "id": "sGL6k2sX-ByC",
        "outputId": "20d71445-a765-437b-ba39-4a38018e3556"
      },
      "outputs": [
        {
          "output_type": "execute_result",
          "data": {
            "text/plain": [
              "array([-0.0855367 , -0.06715695, -0.11409266,  0.02932843,  0.00107139,\n",
              "       -0.07305541, -0.04933849,  0.08920471, -0.04610505,  0.03635596,\n",
              "       -0.06011762,  0.01291929, -0.008651  ,  0.06922629,  0.02630779,\n",
              "       -0.08971725], dtype=float32)"
            ]
          },
          "metadata": {},
          "execution_count": 21
        }
      ],
      "source": [
        "user_latent_features[0]"
      ]
    },
    {
      "cell_type": "code",
      "execution_count": 22,
      "metadata": {
        "tags": [],
        "colab": {
          "base_uri": "https://localhost:8080/"
        },
        "id": "zFvh2rp2-ByD",
        "outputId": "5bfe99b4-9289-4712-9aa9-3f18aa2e61f9"
      },
      "outputs": [
        {
          "output_type": "stream",
          "name": "stdout",
          "text": [
            "Item features shape: (126, 16)\n"
          ]
        }
      ],
      "source": [
        "item_latent_features = model.get_layer('item_embedding_layer').get_weights()[0]\n",
        "print(f\"Item features shape: {item_latent_features.shape}\")"
      ]
    },
    {
      "cell_type": "code",
      "execution_count": 23,
      "metadata": {
        "tags": [],
        "colab": {
          "base_uri": "https://localhost:8080/"
        },
        "id": "Oi4EvhQq-ByD",
        "outputId": "8d22fa39-d661-473d-cdbf-cfd2849b0978"
      },
      "outputs": [
        {
          "output_type": "execute_result",
          "data": {
            "text/plain": [
              "array([-0.01187981,  0.01438393, -0.03123035, -0.00896519,  0.01086719,\n",
              "        0.02704663, -0.01507258,  0.00483755,  0.00839535,  0.01147293,\n",
              "        0.00387304, -0.01375008, -0.00255864, -0.0077937 ,  0.00111768,\n",
              "       -0.02559951], dtype=float32)"
            ]
          },
          "metadata": {},
          "execution_count": 23
        }
      ],
      "source": [
        "item_latent_features[0]"
      ]
    },
    {
      "cell_type": "markdown",
      "metadata": {
        "id": "5BkIccp4-ByD"
      },
      "source": [
        "Now, each user of the total 33901 users has been transformed into a 16 x 1 latent feature vector and each item of the total 126 has been transformed into a 16 x 1 latent feature vector.\n"
      ]
    },
    {
      "cell_type": "markdown",
      "metadata": {
        "id": "PWJsMOEv-ByD"
      },
      "source": [
        "### TASK (Optional): Customize the RecommenderNet to potentially improve the model performance\n"
      ]
    },
    {
      "cell_type": "markdown",
      "metadata": {
        "id": "VggmS40c-ByD"
      },
      "source": [
        "The pre-defined `RecommenderNet()` is a actually very basic neural network, you are encouraged to customize it to see if model prediction performance will be improved. Here are some directions:\n",
        "- Hyperparameter tuning, such as the embedding layer dimensions\n",
        "- Add more hidden layers\n",
        "- Try different activation functions such as `ReLu`\n"
      ]
    },
    {
      "cell_type": "code",
      "execution_count": null,
      "metadata": {
        "id": "emTNAQWk-ByD"
      },
      "outputs": [],
      "source": [
        "## WRITE YOUR CODE HERE\n",
        "\n",
        "## Update RecommenderNet() class\n",
        "\n",
        "## compile and fit the updated model\n",
        "\n",
        "## evaluate the updated model\n"
      ]
    },
    {
      "cell_type": "markdown",
      "metadata": {
        "id": "atPTXj7i-ByE"
      },
      "source": [
        "### Summary\n"
      ]
    },
    {
      "cell_type": "markdown",
      "metadata": {
        "id": "sroh2vQb-ByE"
      },
      "source": [
        "In this lab, you have learned and practiced predicting course ratings using neural networks. With a predefined and trained neural network, we can extract or embed users and items into latent feature spaces and further predict the interaction between a user and an item with the latent feature vectors.\n"
      ]
    },
    {
      "cell_type": "markdown",
      "metadata": {
        "id": "DPCWQS8n-ByE"
      },
      "source": [
        "## Authors\n"
      ]
    },
    {
      "cell_type": "markdown",
      "metadata": {
        "id": "4_ya3trI-ByE"
      },
      "source": [
        "[Yan Luo](https://www.linkedin.com/in/yan-luo-96288783/?utm_medium=Exinfluencer&utm_source=Exinfluencer&utm_content=000026UJ&utm_term=10006555&utm_id=NA-SkillsNetwork-Channel-SkillsNetworkCoursesIBMML321ENSkillsNetwork817-2022-01-01)\n"
      ]
    },
    {
      "cell_type": "markdown",
      "metadata": {
        "id": "5LhMNwLr-ByE"
      },
      "source": [
        "### Other Contributors\n"
      ]
    },
    {
      "cell_type": "markdown",
      "metadata": {
        "id": "lR9uhUrE-ByE"
      },
      "source": [
        "## Change Log\n"
      ]
    },
    {
      "cell_type": "markdown",
      "metadata": {
        "id": "CdgT6v4T-ByF"
      },
      "source": [
        "|Date (YYYY-MM-DD)|Version|Changed By|Change Description|\n",
        "|-|-|-|-|\n",
        "|2021-10-25|1.0|Yan|Created the initial version|\n"
      ]
    },
    {
      "cell_type": "markdown",
      "metadata": {
        "id": "yqXhDlV3-ByF"
      },
      "source": [
        "Copyright © 2021 IBM Corporation. All rights reserved.\n"
      ]
    }
  ],
  "metadata": {
    "kernelspec": {
      "display_name": "Python",
      "language": "python",
      "name": "conda-env-python-py"
    },
    "language_info": {
      "codemirror_mode": {
        "name": "ipython",
        "version": 3
      },
      "file_extension": ".py",
      "mimetype": "text/x-python",
      "name": "python",
      "nbconvert_exporter": "python",
      "pygments_lexer": "ipython3",
      "version": "3.7.12"
    },
    "colab": {
      "provenance": [],
      "toc_visible": true
    }
  },
  "nbformat": 4,
  "nbformat_minor": 0
}